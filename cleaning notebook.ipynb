{
 "cells": [
  {
   "cell_type": "markdown",
   "metadata": {},
   "source": [
    "# Cleaning\n",
    "\n",
    "To avoid the main notebook becoming too cluttered this notebook will be used strictly for data cleaning and processing. "
   ]
  },
  {
   "cell_type": "code",
   "execution_count": 2,
   "metadata": {},
   "outputs": [],
   "source": [
    "# importing the packages we will be using for this project\n",
    "import pandas as pd\n",
    "# setting pandas display to avoid scientific notation in my dataframes\n",
    "pd.options.display.float_format = '{:.2f}'.format\n",
    "import numpy as np\n",
    "import matplotlib.pyplot as plt\n",
    "import seaborn as sns\n",
    "import sklearn\n",
    "from mpl_toolkits.mplot3d import Axes3D\n",
    "from sklearn.preprocessing import StandardScaler\n",
    "from sklearn.metrics import mean_absolute_error, mean_squared_error\n",
    "from statsmodels.stats.outliers_influence import variance_inflation_factor\n",
    "import statsmodels.api as sm\n",
    "from sklearn.metrics import mean_absolute_error, mean_squared_error\n",
    "from statsmodels.stats.outliers_influence import variance_inflation_factor\n",
    "import warnings\n",
    "warnings.filterwarnings('ignore')"
   ]
  },
  {
   "cell_type": "code",
   "execution_count": 3,
   "metadata": {},
   "outputs": [
    {
     "data": {
      "text/html": [
       "<div>\n",
       "<style scoped>\n",
       "    .dataframe tbody tr th:only-of-type {\n",
       "        vertical-align: middle;\n",
       "    }\n",
       "\n",
       "    .dataframe tbody tr th {\n",
       "        vertical-align: top;\n",
       "    }\n",
       "\n",
       "    .dataframe thead th {\n",
       "        text-align: right;\n",
       "    }\n",
       "</style>\n",
       "<table border=\"1\" class=\"dataframe\">\n",
       "  <thead>\n",
       "    <tr style=\"text-align: right;\">\n",
       "      <th></th>\n",
       "      <th>id</th>\n",
       "      <th>date</th>\n",
       "      <th>price</th>\n",
       "      <th>bedrooms</th>\n",
       "      <th>bathrooms</th>\n",
       "      <th>sqft_living</th>\n",
       "      <th>sqft_lot</th>\n",
       "      <th>floors</th>\n",
       "      <th>waterfront</th>\n",
       "      <th>view</th>\n",
       "      <th>...</th>\n",
       "      <th>grade</th>\n",
       "      <th>sqft_above</th>\n",
       "      <th>sqft_basement</th>\n",
       "      <th>yr_built</th>\n",
       "      <th>yr_renovated</th>\n",
       "      <th>zipcode</th>\n",
       "      <th>lat</th>\n",
       "      <th>long</th>\n",
       "      <th>sqft_living15</th>\n",
       "      <th>sqft_lot15</th>\n",
       "    </tr>\n",
       "  </thead>\n",
       "  <tbody>\n",
       "    <tr>\n",
       "      <th>0</th>\n",
       "      <td>7129300520</td>\n",
       "      <td>10/13/2014</td>\n",
       "      <td>221900.00</td>\n",
       "      <td>3</td>\n",
       "      <td>1.00</td>\n",
       "      <td>1180</td>\n",
       "      <td>5650</td>\n",
       "      <td>1.00</td>\n",
       "      <td>NaN</td>\n",
       "      <td>NONE</td>\n",
       "      <td>...</td>\n",
       "      <td>7 Average</td>\n",
       "      <td>1180</td>\n",
       "      <td>0.0</td>\n",
       "      <td>1955</td>\n",
       "      <td>0.00</td>\n",
       "      <td>98178</td>\n",
       "      <td>47.51</td>\n",
       "      <td>-122.26</td>\n",
       "      <td>1340</td>\n",
       "      <td>5650</td>\n",
       "    </tr>\n",
       "    <tr>\n",
       "      <th>1</th>\n",
       "      <td>6414100192</td>\n",
       "      <td>12/9/2014</td>\n",
       "      <td>538000.00</td>\n",
       "      <td>3</td>\n",
       "      <td>2.25</td>\n",
       "      <td>2570</td>\n",
       "      <td>7242</td>\n",
       "      <td>2.00</td>\n",
       "      <td>NO</td>\n",
       "      <td>NONE</td>\n",
       "      <td>...</td>\n",
       "      <td>7 Average</td>\n",
       "      <td>2170</td>\n",
       "      <td>400.0</td>\n",
       "      <td>1951</td>\n",
       "      <td>1991.00</td>\n",
       "      <td>98125</td>\n",
       "      <td>47.72</td>\n",
       "      <td>-122.32</td>\n",
       "      <td>1690</td>\n",
       "      <td>7639</td>\n",
       "    </tr>\n",
       "    <tr>\n",
       "      <th>2</th>\n",
       "      <td>5631500400</td>\n",
       "      <td>2/25/2015</td>\n",
       "      <td>180000.00</td>\n",
       "      <td>2</td>\n",
       "      <td>1.00</td>\n",
       "      <td>770</td>\n",
       "      <td>10000</td>\n",
       "      <td>1.00</td>\n",
       "      <td>NO</td>\n",
       "      <td>NONE</td>\n",
       "      <td>...</td>\n",
       "      <td>6 Low Average</td>\n",
       "      <td>770</td>\n",
       "      <td>0.0</td>\n",
       "      <td>1933</td>\n",
       "      <td>nan</td>\n",
       "      <td>98028</td>\n",
       "      <td>47.74</td>\n",
       "      <td>-122.23</td>\n",
       "      <td>2720</td>\n",
       "      <td>8062</td>\n",
       "    </tr>\n",
       "    <tr>\n",
       "      <th>3</th>\n",
       "      <td>2487200875</td>\n",
       "      <td>12/9/2014</td>\n",
       "      <td>604000.00</td>\n",
       "      <td>4</td>\n",
       "      <td>3.00</td>\n",
       "      <td>1960</td>\n",
       "      <td>5000</td>\n",
       "      <td>1.00</td>\n",
       "      <td>NO</td>\n",
       "      <td>NONE</td>\n",
       "      <td>...</td>\n",
       "      <td>7 Average</td>\n",
       "      <td>1050</td>\n",
       "      <td>910.0</td>\n",
       "      <td>1965</td>\n",
       "      <td>0.00</td>\n",
       "      <td>98136</td>\n",
       "      <td>47.52</td>\n",
       "      <td>-122.39</td>\n",
       "      <td>1360</td>\n",
       "      <td>5000</td>\n",
       "    </tr>\n",
       "    <tr>\n",
       "      <th>4</th>\n",
       "      <td>1954400510</td>\n",
       "      <td>2/18/2015</td>\n",
       "      <td>510000.00</td>\n",
       "      <td>3</td>\n",
       "      <td>2.00</td>\n",
       "      <td>1680</td>\n",
       "      <td>8080</td>\n",
       "      <td>1.00</td>\n",
       "      <td>NO</td>\n",
       "      <td>NONE</td>\n",
       "      <td>...</td>\n",
       "      <td>8 Good</td>\n",
       "      <td>1680</td>\n",
       "      <td>0.0</td>\n",
       "      <td>1987</td>\n",
       "      <td>0.00</td>\n",
       "      <td>98074</td>\n",
       "      <td>47.62</td>\n",
       "      <td>-122.05</td>\n",
       "      <td>1800</td>\n",
       "      <td>7503</td>\n",
       "    </tr>\n",
       "  </tbody>\n",
       "</table>\n",
       "<p>5 rows × 21 columns</p>\n",
       "</div>"
      ],
      "text/plain": [
       "           id        date     price  bedrooms  bathrooms  sqft_living  \\\n",
       "0  7129300520  10/13/2014 221900.00         3       1.00         1180   \n",
       "1  6414100192   12/9/2014 538000.00         3       2.25         2570   \n",
       "2  5631500400   2/25/2015 180000.00         2       1.00          770   \n",
       "3  2487200875   12/9/2014 604000.00         4       3.00         1960   \n",
       "4  1954400510   2/18/2015 510000.00         3       2.00         1680   \n",
       "\n",
       "   sqft_lot  floors waterfront  view  ...          grade sqft_above  \\\n",
       "0      5650    1.00        NaN  NONE  ...      7 Average       1180   \n",
       "1      7242    2.00         NO  NONE  ...      7 Average       2170   \n",
       "2     10000    1.00         NO  NONE  ...  6 Low Average        770   \n",
       "3      5000    1.00         NO  NONE  ...      7 Average       1050   \n",
       "4      8080    1.00         NO  NONE  ...         8 Good       1680   \n",
       "\n",
       "   sqft_basement yr_built  yr_renovated  zipcode   lat    long  sqft_living15  \\\n",
       "0            0.0     1955          0.00    98178 47.51 -122.26           1340   \n",
       "1          400.0     1951       1991.00    98125 47.72 -122.32           1690   \n",
       "2            0.0     1933           nan    98028 47.74 -122.23           2720   \n",
       "3          910.0     1965          0.00    98136 47.52 -122.39           1360   \n",
       "4            0.0     1987          0.00    98074 47.62 -122.05           1800   \n",
       "\n",
       "   sqft_lot15  \n",
       "0        5650  \n",
       "1        7639  \n",
       "2        8062  \n",
       "3        5000  \n",
       "4        7503  \n",
       "\n",
       "[5 rows x 21 columns]"
      ]
     },
     "execution_count": 3,
     "metadata": {},
     "output_type": "execute_result"
    }
   ],
   "source": [
    "# Accessing the dataset and loading the first 5 rows for reference.\n",
    "\n",
    "df = pd.read_csv('data/kc_house_data.csv')\n",
    "df.head()"
   ]
  },
  {
   "cell_type": "code",
   "execution_count": 4,
   "metadata": {},
   "outputs": [
    {
     "data": {
      "text/html": [
       "<div>\n",
       "<style scoped>\n",
       "    .dataframe tbody tr th:only-of-type {\n",
       "        vertical-align: middle;\n",
       "    }\n",
       "\n",
       "    .dataframe tbody tr th {\n",
       "        vertical-align: top;\n",
       "    }\n",
       "\n",
       "    .dataframe thead th {\n",
       "        text-align: right;\n",
       "    }\n",
       "</style>\n",
       "<table border=\"1\" class=\"dataframe\">\n",
       "  <thead>\n",
       "    <tr style=\"text-align: right;\">\n",
       "      <th></th>\n",
       "      <th>id</th>\n",
       "      <th>price</th>\n",
       "      <th>bedrooms</th>\n",
       "      <th>bathrooms</th>\n",
       "      <th>sqft_living</th>\n",
       "      <th>sqft_lot</th>\n",
       "      <th>floors</th>\n",
       "      <th>sqft_above</th>\n",
       "      <th>yr_built</th>\n",
       "      <th>yr_renovated</th>\n",
       "      <th>zipcode</th>\n",
       "      <th>lat</th>\n",
       "      <th>long</th>\n",
       "      <th>sqft_living15</th>\n",
       "      <th>sqft_lot15</th>\n",
       "    </tr>\n",
       "  </thead>\n",
       "  <tbody>\n",
       "    <tr>\n",
       "      <th>count</th>\n",
       "      <td>21597.00</td>\n",
       "      <td>21597.00</td>\n",
       "      <td>21597.00</td>\n",
       "      <td>21597.00</td>\n",
       "      <td>21597.00</td>\n",
       "      <td>21597.00</td>\n",
       "      <td>21597.00</td>\n",
       "      <td>21597.00</td>\n",
       "      <td>21597.00</td>\n",
       "      <td>17755.00</td>\n",
       "      <td>21597.00</td>\n",
       "      <td>21597.00</td>\n",
       "      <td>21597.00</td>\n",
       "      <td>21597.00</td>\n",
       "      <td>21597.00</td>\n",
       "    </tr>\n",
       "    <tr>\n",
       "      <th>mean</th>\n",
       "      <td>4580474287.77</td>\n",
       "      <td>540296.57</td>\n",
       "      <td>3.37</td>\n",
       "      <td>2.12</td>\n",
       "      <td>2080.32</td>\n",
       "      <td>15099.41</td>\n",
       "      <td>1.49</td>\n",
       "      <td>1788.60</td>\n",
       "      <td>1971.00</td>\n",
       "      <td>83.64</td>\n",
       "      <td>98077.95</td>\n",
       "      <td>47.56</td>\n",
       "      <td>-122.21</td>\n",
       "      <td>1986.62</td>\n",
       "      <td>12758.28</td>\n",
       "    </tr>\n",
       "    <tr>\n",
       "      <th>std</th>\n",
       "      <td>2876735715.75</td>\n",
       "      <td>367368.14</td>\n",
       "      <td>0.93</td>\n",
       "      <td>0.77</td>\n",
       "      <td>918.11</td>\n",
       "      <td>41412.64</td>\n",
       "      <td>0.54</td>\n",
       "      <td>827.76</td>\n",
       "      <td>29.38</td>\n",
       "      <td>399.95</td>\n",
       "      <td>53.51</td>\n",
       "      <td>0.14</td>\n",
       "      <td>0.14</td>\n",
       "      <td>685.23</td>\n",
       "      <td>27274.44</td>\n",
       "    </tr>\n",
       "    <tr>\n",
       "      <th>min</th>\n",
       "      <td>1000102.00</td>\n",
       "      <td>78000.00</td>\n",
       "      <td>1.00</td>\n",
       "      <td>0.50</td>\n",
       "      <td>370.00</td>\n",
       "      <td>520.00</td>\n",
       "      <td>1.00</td>\n",
       "      <td>370.00</td>\n",
       "      <td>1900.00</td>\n",
       "      <td>0.00</td>\n",
       "      <td>98001.00</td>\n",
       "      <td>47.16</td>\n",
       "      <td>-122.52</td>\n",
       "      <td>399.00</td>\n",
       "      <td>651.00</td>\n",
       "    </tr>\n",
       "    <tr>\n",
       "      <th>25%</th>\n",
       "      <td>2123049175.00</td>\n",
       "      <td>322000.00</td>\n",
       "      <td>3.00</td>\n",
       "      <td>1.75</td>\n",
       "      <td>1430.00</td>\n",
       "      <td>5040.00</td>\n",
       "      <td>1.00</td>\n",
       "      <td>1190.00</td>\n",
       "      <td>1951.00</td>\n",
       "      <td>0.00</td>\n",
       "      <td>98033.00</td>\n",
       "      <td>47.47</td>\n",
       "      <td>-122.33</td>\n",
       "      <td>1490.00</td>\n",
       "      <td>5100.00</td>\n",
       "    </tr>\n",
       "    <tr>\n",
       "      <th>50%</th>\n",
       "      <td>3904930410.00</td>\n",
       "      <td>450000.00</td>\n",
       "      <td>3.00</td>\n",
       "      <td>2.25</td>\n",
       "      <td>1910.00</td>\n",
       "      <td>7618.00</td>\n",
       "      <td>1.50</td>\n",
       "      <td>1560.00</td>\n",
       "      <td>1975.00</td>\n",
       "      <td>0.00</td>\n",
       "      <td>98065.00</td>\n",
       "      <td>47.57</td>\n",
       "      <td>-122.23</td>\n",
       "      <td>1840.00</td>\n",
       "      <td>7620.00</td>\n",
       "    </tr>\n",
       "    <tr>\n",
       "      <th>75%</th>\n",
       "      <td>7308900490.00</td>\n",
       "      <td>645000.00</td>\n",
       "      <td>4.00</td>\n",
       "      <td>2.50</td>\n",
       "      <td>2550.00</td>\n",
       "      <td>10685.00</td>\n",
       "      <td>2.00</td>\n",
       "      <td>2210.00</td>\n",
       "      <td>1997.00</td>\n",
       "      <td>0.00</td>\n",
       "      <td>98118.00</td>\n",
       "      <td>47.68</td>\n",
       "      <td>-122.12</td>\n",
       "      <td>2360.00</td>\n",
       "      <td>10083.00</td>\n",
       "    </tr>\n",
       "    <tr>\n",
       "      <th>max</th>\n",
       "      <td>9900000190.00</td>\n",
       "      <td>7700000.00</td>\n",
       "      <td>33.00</td>\n",
       "      <td>8.00</td>\n",
       "      <td>13540.00</td>\n",
       "      <td>1651359.00</td>\n",
       "      <td>3.50</td>\n",
       "      <td>9410.00</td>\n",
       "      <td>2015.00</td>\n",
       "      <td>2015.00</td>\n",
       "      <td>98199.00</td>\n",
       "      <td>47.78</td>\n",
       "      <td>-121.31</td>\n",
       "      <td>6210.00</td>\n",
       "      <td>871200.00</td>\n",
       "    </tr>\n",
       "  </tbody>\n",
       "</table>\n",
       "</div>"
      ],
      "text/plain": [
       "                 id      price  bedrooms  bathrooms  sqft_living   sqft_lot  \\\n",
       "count      21597.00   21597.00  21597.00   21597.00     21597.00   21597.00   \n",
       "mean  4580474287.77  540296.57      3.37       2.12      2080.32   15099.41   \n",
       "std   2876735715.75  367368.14      0.93       0.77       918.11   41412.64   \n",
       "min      1000102.00   78000.00      1.00       0.50       370.00     520.00   \n",
       "25%   2123049175.00  322000.00      3.00       1.75      1430.00    5040.00   \n",
       "50%   3904930410.00  450000.00      3.00       2.25      1910.00    7618.00   \n",
       "75%   7308900490.00  645000.00      4.00       2.50      2550.00   10685.00   \n",
       "max   9900000190.00 7700000.00     33.00       8.00     13540.00 1651359.00   \n",
       "\n",
       "        floors  sqft_above  yr_built  yr_renovated  zipcode      lat     long  \\\n",
       "count 21597.00    21597.00  21597.00      17755.00 21597.00 21597.00 21597.00   \n",
       "mean      1.49     1788.60   1971.00         83.64 98077.95    47.56  -122.21   \n",
       "std       0.54      827.76     29.38        399.95    53.51     0.14     0.14   \n",
       "min       1.00      370.00   1900.00          0.00 98001.00    47.16  -122.52   \n",
       "25%       1.00     1190.00   1951.00          0.00 98033.00    47.47  -122.33   \n",
       "50%       1.50     1560.00   1975.00          0.00 98065.00    47.57  -122.23   \n",
       "75%       2.00     2210.00   1997.00          0.00 98118.00    47.68  -122.12   \n",
       "max       3.50     9410.00   2015.00       2015.00 98199.00    47.78  -121.31   \n",
       "\n",
       "       sqft_living15  sqft_lot15  \n",
       "count       21597.00    21597.00  \n",
       "mean         1986.62    12758.28  \n",
       "std           685.23    27274.44  \n",
       "min           399.00      651.00  \n",
       "25%          1490.00     5100.00  \n",
       "50%          1840.00     7620.00  \n",
       "75%          2360.00    10083.00  \n",
       "max          6210.00   871200.00  "
      ]
     },
     "execution_count": 4,
     "metadata": {},
     "output_type": "execute_result"
    }
   ],
   "source": [
    "# Taking a look at some of the numerical data of the dataframe.\n",
    "\n",
    "df.describe()"
   ]
  },
  {
   "cell_type": "code",
   "execution_count": 5,
   "metadata": {
    "scrolled": true
   },
   "outputs": [
    {
     "name": "stdout",
     "output_type": "stream",
     "text": [
      "<class 'pandas.core.frame.DataFrame'>\n",
      "RangeIndex: 21597 entries, 0 to 21596\n",
      "Data columns (total 21 columns):\n",
      " #   Column         Non-Null Count  Dtype  \n",
      "---  ------         --------------  -----  \n",
      " 0   id             21597 non-null  int64  \n",
      " 1   date           21597 non-null  object \n",
      " 2   price          21597 non-null  float64\n",
      " 3   bedrooms       21597 non-null  int64  \n",
      " 4   bathrooms      21597 non-null  float64\n",
      " 5   sqft_living    21597 non-null  int64  \n",
      " 6   sqft_lot       21597 non-null  int64  \n",
      " 7   floors         21597 non-null  float64\n",
      " 8   waterfront     19221 non-null  object \n",
      " 9   view           21534 non-null  object \n",
      " 10  condition      21597 non-null  object \n",
      " 11  grade          21597 non-null  object \n",
      " 12  sqft_above     21597 non-null  int64  \n",
      " 13  sqft_basement  21597 non-null  object \n",
      " 14  yr_built       21597 non-null  int64  \n",
      " 15  yr_renovated   17755 non-null  float64\n",
      " 16  zipcode        21597 non-null  int64  \n",
      " 17  lat            21597 non-null  float64\n",
      " 18  long           21597 non-null  float64\n",
      " 19  sqft_living15  21597 non-null  int64  \n",
      " 20  sqft_lot15     21597 non-null  int64  \n",
      "dtypes: float64(6), int64(9), object(6)\n",
      "memory usage: 3.5+ MB\n"
     ]
    }
   ],
   "source": [
    "# A view of some of the information in our data set.\n",
    "\n",
    "df.info()"
   ]
  },
  {
   "cell_type": "code",
   "execution_count": 6,
   "metadata": {},
   "outputs": [],
   "source": [
    "# Columns that are not numeric :\n",
    "    #date-will likely be removed\n",
    "    #waterfront\n",
    "    #view\n",
    "    #condition\n",
    "    #grade\n",
    "    #sqft_basement"
   ]
  },
  {
   "cell_type": "code",
   "execution_count": 7,
   "metadata": {},
   "outputs": [
    {
     "data": {
      "text/plain": [
       "count   21597.00\n",
       "mean     1971.00\n",
       "std        29.38\n",
       "min      1900.00\n",
       "25%      1951.00\n",
       "50%      1975.00\n",
       "75%      1997.00\n",
       "max      2015.00\n",
       "Name: yr_built, dtype: float64"
      ]
     },
     "execution_count": 7,
     "metadata": {},
     "output_type": "execute_result"
    }
   ],
   "source": [
    "# Year built dispersion\n",
    "\n",
    "df.yr_built.describe()"
   ]
  },
  {
   "cell_type": "code",
   "execution_count": 8,
   "metadata": {},
   "outputs": [
    {
     "data": {
      "text/plain": [
       "count   21597.00\n",
       "mean     2080.32\n",
       "std       918.11\n",
       "min       370.00\n",
       "25%      1430.00\n",
       "50%      1910.00\n",
       "75%      2550.00\n",
       "max     13540.00\n",
       "Name: sqft_living, dtype: float64"
      ]
     },
     "execution_count": 8,
     "metadata": {},
     "output_type": "execute_result"
    }
   ],
   "source": [
    "# Info on square footage of living space\n",
    "\n",
    "df['sqft_living'].describe()"
   ]
  },
  {
   "cell_type": "code",
   "execution_count": 9,
   "metadata": {},
   "outputs": [
    {
     "data": {
      "text/plain": [
       "Average      14020\n",
       "Good          5677\n",
       "Very Good     1701\n",
       "Fair           170\n",
       "Poor            29\n",
       "Name: condition, dtype: int64"
      ]
     },
     "execution_count": 9,
     "metadata": {},
     "output_type": "execute_result"
    }
   ],
   "source": [
    "# Number of houses that fall under each level of condition\n",
    "\n",
    "df['condition'].value_counts()"
   ]
  },
  {
   "cell_type": "code",
   "execution_count": 10,
   "metadata": {},
   "outputs": [
    {
     "data": {
      "text/plain": [
       "1.00    10673\n",
       "2.00     8235\n",
       "1.50     1910\n",
       "3.00      611\n",
       "2.50      161\n",
       "3.50        7\n",
       "Name: floors, dtype: int64"
      ]
     },
     "execution_count": 10,
     "metadata": {},
     "output_type": "execute_result"
    }
   ],
   "source": [
    "# Stats for floor counts\n",
    "\n",
    "df['floors'].value_counts()"
   ]
  },
  {
   "cell_type": "code",
   "execution_count": 11,
   "metadata": {},
   "outputs": [
    {
     "data": {
      "text/plain": [
       "7 Average        8974\n",
       "8 Good           6065\n",
       "9 Better         2615\n",
       "6 Low Average    2038\n",
       "10 Very Good     1134\n",
       "11 Excellent      399\n",
       "5 Fair            242\n",
       "12 Luxury          89\n",
       "4 Low              27\n",
       "13 Mansion         13\n",
       "3 Poor              1\n",
       "Name: grade, dtype: int64"
      ]
     },
     "execution_count": 11,
     "metadata": {},
     "output_type": "execute_result"
    }
   ],
   "source": [
    "# Upon first glance one might think this category has something to do with slope of the ground where the house is located,\n",
    "# but after looking at the King County website we see that it represents the construction quality of the building,\n",
    "# where 1 is the lowest and 13 the highest which is considered \"Mansion Level\". \n",
    "\n",
    "df.grade.value_counts()"
   ]
  },
  {
   "cell_type": "markdown",
   "metadata": {},
   "source": [
    "#### Basement Square Footage"
   ]
  },
  {
   "cell_type": "code",
   "execution_count": 12,
   "metadata": {},
   "outputs": [
    {
     "data": {
      "text/plain": [
       "array(['0.0', '400.0', '910.0', '1530.0', '?', '730.0', '1700.0', '300.0',\n",
       "       '970.0', '760.0', '720.0', '700.0', '820.0', '780.0', '790.0',\n",
       "       '330.0', '1620.0', '360.0', '588.0', '1510.0', '410.0', '990.0',\n",
       "       '600.0', '560.0', '550.0', '1000.0', '1600.0', '500.0', '1040.0',\n",
       "       '880.0', '1010.0', '240.0', '265.0', '290.0', '800.0', '540.0',\n",
       "       '710.0', '840.0', '380.0', '770.0', '480.0', '570.0', '1490.0',\n",
       "       '620.0', '1250.0', '1270.0', '120.0', '650.0', '180.0', '1130.0',\n",
       "       '450.0', '1640.0', '1460.0', '1020.0', '1030.0', '750.0', '640.0',\n",
       "       '1070.0', '490.0', '1310.0', '630.0', '2000.0', '390.0', '430.0',\n",
       "       '850.0', '210.0', '1430.0', '1950.0', '440.0', '220.0', '1160.0',\n",
       "       '860.0', '580.0', '2060.0', '1820.0', '1180.0', '200.0', '1150.0',\n",
       "       '1200.0', '680.0', '530.0', '1450.0', '1170.0', '1080.0', '960.0',\n",
       "       '280.0', '870.0', '1100.0', '460.0', '1400.0', '660.0', '1220.0',\n",
       "       '900.0', '420.0', '1580.0', '1380.0', '475.0', '690.0', '270.0',\n",
       "       '350.0', '935.0', '1370.0', '980.0', '1470.0', '160.0', '950.0',\n",
       "       '50.0', '740.0', '1780.0', '1900.0', '340.0', '470.0', '370.0',\n",
       "       '140.0', '1760.0', '130.0', '520.0', '890.0', '1110.0', '150.0',\n",
       "       '1720.0', '810.0', '190.0', '1290.0', '670.0', '1800.0', '1120.0',\n",
       "       '1810.0', '60.0', '1050.0', '940.0', '310.0', '930.0', '1390.0',\n",
       "       '610.0', '1830.0', '1300.0', '510.0', '1330.0', '1590.0', '920.0',\n",
       "       '1320.0', '1420.0', '1240.0', '1960.0', '1560.0', '2020.0',\n",
       "       '1190.0', '2110.0', '1280.0', '250.0', '2390.0', '1230.0', '170.0',\n",
       "       '830.0', '1260.0', '1410.0', '1340.0', '590.0', '1500.0', '1140.0',\n",
       "       '260.0', '100.0', '320.0', '1480.0', '1060.0', '1284.0', '1670.0',\n",
       "       '1350.0', '2570.0', '1090.0', '110.0', '2500.0', '90.0', '1940.0',\n",
       "       '1550.0', '2350.0', '2490.0', '1481.0', '1360.0', '1135.0',\n",
       "       '1520.0', '1850.0', '1660.0', '2130.0', '2600.0', '1690.0',\n",
       "       '243.0', '1210.0', '1024.0', '1798.0', '1610.0', '1440.0',\n",
       "       '1570.0', '1650.0', '704.0', '1910.0', '1630.0', '2360.0',\n",
       "       '1852.0', '2090.0', '2400.0', '1790.0', '2150.0', '230.0', '70.0',\n",
       "       '1680.0', '2100.0', '3000.0', '1870.0', '1710.0', '2030.0',\n",
       "       '875.0', '1540.0', '2850.0', '2170.0', '506.0', '906.0', '145.0',\n",
       "       '2040.0', '784.0', '1750.0', '374.0', '518.0', '2720.0', '2730.0',\n",
       "       '1840.0', '3480.0', '2160.0', '1920.0', '2330.0', '1860.0',\n",
       "       '2050.0', '4820.0', '1913.0', '80.0', '2010.0', '3260.0', '2200.0',\n",
       "       '415.0', '1730.0', '652.0', '2196.0', '1930.0', '515.0', '40.0',\n",
       "       '2080.0', '2580.0', '1548.0', '1740.0', '235.0', '861.0', '1890.0',\n",
       "       '2220.0', '792.0', '2070.0', '4130.0', '2250.0', '2240.0',\n",
       "       '1990.0', '768.0', '2550.0', '435.0', '1008.0', '2300.0', '2610.0',\n",
       "       '666.0', '3500.0', '172.0', '1816.0', '2190.0', '1245.0', '1525.0',\n",
       "       '1880.0', '862.0', '946.0', '1281.0', '414.0', '2180.0', '276.0',\n",
       "       '1248.0', '602.0', '516.0', '176.0', '225.0', '1275.0', '266.0',\n",
       "       '283.0', '65.0', '2310.0', '10.0', '1770.0', '2120.0', '295.0',\n",
       "       '207.0', '915.0', '556.0', '417.0', '143.0', '508.0', '2810.0',\n",
       "       '20.0', '274.0', '248.0'], dtype=object)"
      ]
     },
     "execution_count": 12,
     "metadata": {},
     "output_type": "execute_result"
    }
   ],
   "source": [
    "# Its odd that this column is an object and not numerical, so Im using this function to take a look at the values\n",
    "#to see if we can learn anything.\n",
    "\n",
    "df.sqft_basement.unique()"
   ]
  },
  {
   "cell_type": "code",
   "execution_count": 13,
   "metadata": {},
   "outputs": [],
   "source": [
    "#So there was a \"?\" inputted, we will remove that so we can turn this column into a float.\n",
    "\n",
    "df = df[df.sqft_basement != '?']\n",
    "df['sqft_basement'] = df['sqft_basement'].astype('float')"
   ]
  },
  {
   "cell_type": "code",
   "execution_count": 14,
   "metadata": {},
   "outputs": [
    {
     "name": "stdout",
     "output_type": "stream",
     "text": [
      "<class 'pandas.core.frame.DataFrame'>\n",
      "Int64Index: 21143 entries, 0 to 21596\n",
      "Data columns (total 21 columns):\n",
      " #   Column         Non-Null Count  Dtype  \n",
      "---  ------         --------------  -----  \n",
      " 0   id             21143 non-null  int64  \n",
      " 1   date           21143 non-null  object \n",
      " 2   price          21143 non-null  float64\n",
      " 3   bedrooms       21143 non-null  int64  \n",
      " 4   bathrooms      21143 non-null  float64\n",
      " 5   sqft_living    21143 non-null  int64  \n",
      " 6   sqft_lot       21143 non-null  int64  \n",
      " 7   floors         21143 non-null  float64\n",
      " 8   waterfront     18804 non-null  object \n",
      " 9   view           21082 non-null  object \n",
      " 10  condition      21143 non-null  object \n",
      " 11  grade          21143 non-null  object \n",
      " 12  sqft_above     21143 non-null  int64  \n",
      " 13  sqft_basement  21143 non-null  float64\n",
      " 14  yr_built       21143 non-null  int64  \n",
      " 15  yr_renovated   17389 non-null  float64\n",
      " 16  zipcode        21143 non-null  int64  \n",
      " 17  lat            21143 non-null  float64\n",
      " 18  long           21143 non-null  float64\n",
      " 19  sqft_living15  21143 non-null  int64  \n",
      " 20  sqft_lot15     21143 non-null  int64  \n",
      "dtypes: float64(7), int64(9), object(5)\n",
      "memory usage: 3.5+ MB\n"
     ]
    }
   ],
   "source": [
    "# Check to make sure the changes are reflected in the basement column.\n",
    "df.info()"
   ]
  },
  {
   "cell_type": "markdown",
   "metadata": {},
   "source": [
    "***"
   ]
  },
  {
   "cell_type": "markdown",
   "metadata": {},
   "source": [
    "There are still a few columns that need to be addressed so that they can be properly used in our modeling. Namely the columns that have their type listed as \"object\" which keeps us from being able to use their numerical values. I am not too concerned with 'date' right now and 'waterfront' will be determined as we continue to work on the data."
   ]
  },
  {
   "cell_type": "markdown",
   "metadata": {},
   "source": [
    "#### Waterfront"
   ]
  },
  {
   "cell_type": "markdown",
   "metadata": {},
   "source": [
    "***"
   ]
  },
  {
   "cell_type": "code",
   "execution_count": 15,
   "metadata": {},
   "outputs": [
    {
     "data": {
      "text/plain": [
       "array([nan, 'NO', 'YES'], dtype=object)"
      ]
     },
     "execution_count": 15,
     "metadata": {},
     "output_type": "execute_result"
    }
   ],
   "source": [
    "df.waterfront.unique()"
   ]
  },
  {
   "cell_type": "code",
   "execution_count": 16,
   "metadata": {},
   "outputs": [
    {
     "data": {
      "text/plain": [
       "NO     18662\n",
       "YES      142\n",
       "Name: waterfront, dtype: int64"
      ]
     },
     "execution_count": 16,
     "metadata": {},
     "output_type": "execute_result"
    }
   ],
   "source": [
    "df.waterfront.value_counts()"
   ]
  },
  {
   "cell_type": "code",
   "execution_count": 17,
   "metadata": {},
   "outputs": [
    {
     "data": {
      "text/plain": [
       "2339"
      ]
     },
     "execution_count": 17,
     "metadata": {},
     "output_type": "execute_result"
    }
   ],
   "source": [
    "df['waterfront'].isna().sum()"
   ]
  },
  {
   "cell_type": "code",
   "execution_count": 18,
   "metadata": {},
   "outputs": [],
   "source": [
    "# The overwhelming majority of properties are NOT listed as waterfront, therefore I feel\n",
    "# comfortable filling the Nan values as also not being waterfront.\n",
    "#After that I will convert the YES/NO's into 1/0's to make the column numeric.\n",
    "\n",
    "df['waterfront'].fillna(df['waterfront'].mode().values[0], inplace = True)\n"
   ]
  },
  {
   "cell_type": "code",
   "execution_count": 19,
   "metadata": {},
   "outputs": [],
   "source": [
    "df['waterfront'] = df['waterfront'].map({'YES': 1, 'NO': 0})"
   ]
  },
  {
   "cell_type": "code",
   "execution_count": 20,
   "metadata": {},
   "outputs": [
    {
     "data": {
      "text/plain": [
       "0        0\n",
       "1        0\n",
       "2        0\n",
       "3        0\n",
       "4        0\n",
       "        ..\n",
       "21592    0\n",
       "21593    0\n",
       "21594    0\n",
       "21595    0\n",
       "21596    0\n",
       "Name: waterfront, Length: 21143, dtype: int64"
      ]
     },
     "execution_count": 20,
     "metadata": {},
     "output_type": "execute_result"
    }
   ],
   "source": [
    "# Checking for success...\n",
    "df.waterfront"
   ]
  },
  {
   "cell_type": "code",
   "execution_count": 21,
   "metadata": {},
   "outputs": [
    {
     "data": {
      "text/plain": [
       "0"
      ]
     },
     "execution_count": 21,
     "metadata": {},
     "output_type": "execute_result"
    }
   ],
   "source": [
    "df.waterfront.isna().sum()"
   ]
  },
  {
   "cell_type": "markdown",
   "metadata": {},
   "source": [
    "### View"
   ]
  },
  {
   "cell_type": "code",
   "execution_count": 22,
   "metadata": {},
   "outputs": [
    {
     "data": {
      "text/plain": [
       "array(['NONE', nan, 'GOOD', 'EXCELLENT', 'AVERAGE', 'FAIR'], dtype=object)"
      ]
     },
     "execution_count": 22,
     "metadata": {},
     "output_type": "execute_result"
    }
   ],
   "source": [
    "df.view.unique()"
   ]
  },
  {
   "cell_type": "code",
   "execution_count": 23,
   "metadata": {},
   "outputs": [
    {
     "data": {
      "text/plain": [
       "NONE         19018\n",
       "AVERAGE        930\n",
       "GOOD           496\n",
       "FAIR           327\n",
       "EXCELLENT      311\n",
       "Name: view, dtype: int64"
      ]
     },
     "execution_count": 23,
     "metadata": {},
     "output_type": "execute_result"
    }
   ],
   "source": [
    "df['view'].value_counts()"
   ]
  },
  {
   "cell_type": "code",
   "execution_count": 24,
   "metadata": {},
   "outputs": [
    {
     "data": {
      "text/plain": [
       "61"
      ]
     },
     "execution_count": 24,
     "metadata": {},
     "output_type": "execute_result"
    }
   ],
   "source": [
    "df['view'].isna().sum()"
   ]
  },
  {
   "cell_type": "markdown",
   "metadata": {},
   "source": [
    "Over 90% of the properties have no view listed, and since there are missing values and the column is listed as an object, this category will just be dropped."
   ]
  },
  {
   "cell_type": "markdown",
   "metadata": {},
   "source": [
    "#### Condition"
   ]
  },
  {
   "cell_type": "code",
   "execution_count": 25,
   "metadata": {},
   "outputs": [
    {
     "data": {
      "text/plain": [
       "Average      13726\n",
       "Good          5557\n",
       "Very Good     1666\n",
       "Fair           166\n",
       "Poor            28\n",
       "Name: condition, dtype: int64"
      ]
     },
     "execution_count": 25,
     "metadata": {},
     "output_type": "execute_result"
    }
   ],
   "source": [
    "df.condition.value_counts()"
   ]
  },
  {
   "cell_type": "code",
   "execution_count": 26,
   "metadata": {},
   "outputs": [
    {
     "data": {
      "text/plain": [
       "0"
      ]
     },
     "execution_count": 26,
     "metadata": {},
     "output_type": "execute_result"
    }
   ],
   "source": [
    "df.condition.isna().sum()"
   ]
  },
  {
   "cell_type": "code",
   "execution_count": 27,
   "metadata": {},
   "outputs": [],
   "source": [
    "# In this cell I will run a process called label encoding which will create numeric values.\n",
    "import sklearn\n",
    "from sklearn import preprocessing \n",
    "from sklearn.preprocessing import StandardScaler\n",
    "\n",
    "label_encoder = preprocessing.LabelEncoder()\n",
    "\n",
    "df['condition']= label_encoder.fit_transform(df['condition'])\n"
   ]
  },
  {
   "cell_type": "code",
   "execution_count": 28,
   "metadata": {},
   "outputs": [
    {
     "data": {
      "text/plain": [
       "0    13726\n",
       "2     5557\n",
       "4     1666\n",
       "1      166\n",
       "3       28\n",
       "Name: condition, dtype: int64"
      ]
     },
     "execution_count": 28,
     "metadata": {},
     "output_type": "execute_result"
    }
   ],
   "source": [
    "df.condition.value_counts()"
   ]
  },
  {
   "cell_type": "code",
   "execution_count": 29,
   "metadata": {},
   "outputs": [
    {
     "name": "stdout",
     "output_type": "stream",
     "text": [
      "<class 'pandas.core.frame.DataFrame'>\n",
      "Int64Index: 21143 entries, 0 to 21596\n",
      "Data columns (total 21 columns):\n",
      " #   Column         Non-Null Count  Dtype  \n",
      "---  ------         --------------  -----  \n",
      " 0   id             21143 non-null  int64  \n",
      " 1   date           21143 non-null  object \n",
      " 2   price          21143 non-null  float64\n",
      " 3   bedrooms       21143 non-null  int64  \n",
      " 4   bathrooms      21143 non-null  float64\n",
      " 5   sqft_living    21143 non-null  int64  \n",
      " 6   sqft_lot       21143 non-null  int64  \n",
      " 7   floors         21143 non-null  float64\n",
      " 8   waterfront     21143 non-null  int64  \n",
      " 9   view           21082 non-null  object \n",
      " 10  condition      21143 non-null  int64  \n",
      " 11  grade          21143 non-null  object \n",
      " 12  sqft_above     21143 non-null  int64  \n",
      " 13  sqft_basement  21143 non-null  float64\n",
      " 14  yr_built       21143 non-null  int64  \n",
      " 15  yr_renovated   17389 non-null  float64\n",
      " 16  zipcode        21143 non-null  int64  \n",
      " 17  lat            21143 non-null  float64\n",
      " 18  long           21143 non-null  float64\n",
      " 19  sqft_living15  21143 non-null  int64  \n",
      " 20  sqft_lot15     21143 non-null  int64  \n",
      "dtypes: float64(7), int64(11), object(3)\n",
      "memory usage: 3.5+ MB\n"
     ]
    }
   ],
   "source": [
    "# We see that the column is now an integer.\n",
    "df.info()"
   ]
  },
  {
   "cell_type": "markdown",
   "metadata": {},
   "source": [
    "***\n"
   ]
  },
  {
   "cell_type": "markdown",
   "metadata": {},
   "source": [
    "#### Year Renovated"
   ]
  },
  {
   "cell_type": "code",
   "execution_count": 30,
   "metadata": {},
   "outputs": [
    {
     "data": {
      "text/plain": [
       "3754"
      ]
     },
     "execution_count": 30,
     "metadata": {},
     "output_type": "execute_result"
    }
   ],
   "source": [
    "df['yr_renovated'].isna().sum()"
   ]
  },
  {
   "cell_type": "code",
   "execution_count": 31,
   "metadata": {},
   "outputs": [
    {
     "data": {
      "text/plain": [
       "(21143,)"
      ]
     },
     "execution_count": 31,
     "metadata": {},
     "output_type": "execute_result"
    }
   ],
   "source": [
    "df['yr_renovated'].shape"
   ]
  },
  {
   "cell_type": "code",
   "execution_count": 32,
   "metadata": {},
   "outputs": [
    {
     "data": {
      "text/plain": [
       "0.00       16666\n",
       "2014.00       69\n",
       "2003.00       31\n",
       "2013.00       31\n",
       "2007.00       30\n",
       "           ...  \n",
       "1953.00        1\n",
       "1944.00        1\n",
       "1934.00        1\n",
       "1971.00        1\n",
       "1959.00        1\n",
       "Name: yr_renovated, Length: 69, dtype: int64"
      ]
     },
     "execution_count": 32,
     "metadata": {},
     "output_type": "execute_result"
    }
   ],
   "source": [
    "df['yr_renovated'].value_counts()"
   ]
  },
  {
   "cell_type": "markdown",
   "metadata": {},
   "source": [
    "The question here is whether we want to make the assumption that these null values which make up 17% of this set are null because the house was never renovated. We see that out of the total data frame of over 21,000 there are almost 17,000 houses confirmed with no renovation. Instead of dropping the 3,754 null values I will just change them into not being renovated so we do not have to remove those sales from the data set.\n"
   ]
  },
  {
   "cell_type": "code",
   "execution_count": 33,
   "metadata": {},
   "outputs": [
    {
     "data": {
      "text/plain": [
       "0"
      ]
     },
     "execution_count": 33,
     "metadata": {},
     "output_type": "execute_result"
    }
   ],
   "source": [
    "df['yr_renovated'] = df['yr_renovated'].fillna(0)\n",
    "df['yr_renovated'].isna().sum()"
   ]
  },
  {
   "cell_type": "markdown",
   "metadata": {},
   "source": [
    "#### Bedrooms"
   ]
  },
  {
   "cell_type": "code",
   "execution_count": 34,
   "metadata": {},
   "outputs": [
    {
     "data": {
      "text/plain": [
       "3     9639\n",
       "4     6740\n",
       "2     2691\n",
       "5     1560\n",
       "6      262\n",
       "1      191\n",
       "7       36\n",
       "8       13\n",
       "9        6\n",
       "10       3\n",
       "11       1\n",
       "33       1\n",
       "Name: bedrooms, dtype: int64"
      ]
     },
     "execution_count": 34,
     "metadata": {},
     "output_type": "execute_result"
    }
   ],
   "source": [
    "df['bedrooms'].value_counts()"
   ]
  },
  {
   "cell_type": "code",
   "execution_count": 35,
   "metadata": {},
   "outputs": [],
   "source": [
    "# After a quick look we see that the most common number of bedrooms goes in the order of 3,4,2,5. Which seems\n",
    "# perfectly logical. However while 10 and 11 bedrooms in a house could be possible, having 33 seems completely\n",
    "# unlikely, if I had to take a guess this value was fat-fingered in. Therefore I will remove it to avoid ouliers.\n",
    "\n",
    "df = df[(df.bedrooms != 33)]"
   ]
  },
  {
   "cell_type": "markdown",
   "metadata": {},
   "source": [
    "****"
   ]
  },
  {
   "cell_type": "code",
   "execution_count": 36,
   "metadata": {},
   "outputs": [
    {
     "data": {
      "text/plain": [
       "id                0\n",
       "date              0\n",
       "price             0\n",
       "bedrooms          0\n",
       "bathrooms         0\n",
       "sqft_living       0\n",
       "sqft_lot          0\n",
       "floors            0\n",
       "waterfront        0\n",
       "view             61\n",
       "condition         0\n",
       "grade             0\n",
       "sqft_above        0\n",
       "sqft_basement     0\n",
       "yr_built          0\n",
       "yr_renovated      0\n",
       "zipcode           0\n",
       "lat               0\n",
       "long              0\n",
       "sqft_living15     0\n",
       "sqft_lot15        0\n",
       "dtype: int64"
      ]
     },
     "execution_count": 36,
     "metadata": {},
     "output_type": "execute_result"
    }
   ],
   "source": [
    "# Taking a look at our dataset which should be close to fully cleaned now.\n",
    "df.isna().sum()"
   ]
  },
  {
   "cell_type": "code",
   "execution_count": 37,
   "metadata": {},
   "outputs": [
    {
     "name": "stdout",
     "output_type": "stream",
     "text": [
      "<class 'pandas.core.frame.DataFrame'>\n",
      "Int64Index: 21142 entries, 0 to 21596\n",
      "Data columns (total 21 columns):\n",
      " #   Column         Non-Null Count  Dtype  \n",
      "---  ------         --------------  -----  \n",
      " 0   id             21142 non-null  int64  \n",
      " 1   date           21142 non-null  object \n",
      " 2   price          21142 non-null  float64\n",
      " 3   bedrooms       21142 non-null  int64  \n",
      " 4   bathrooms      21142 non-null  float64\n",
      " 5   sqft_living    21142 non-null  int64  \n",
      " 6   sqft_lot       21142 non-null  int64  \n",
      " 7   floors         21142 non-null  float64\n",
      " 8   waterfront     21142 non-null  int64  \n",
      " 9   view           21081 non-null  object \n",
      " 10  condition      21142 non-null  int64  \n",
      " 11  grade          21142 non-null  object \n",
      " 12  sqft_above     21142 non-null  int64  \n",
      " 13  sqft_basement  21142 non-null  float64\n",
      " 14  yr_built       21142 non-null  int64  \n",
      " 15  yr_renovated   21142 non-null  float64\n",
      " 16  zipcode        21142 non-null  int64  \n",
      " 17  lat            21142 non-null  float64\n",
      " 18  long           21142 non-null  float64\n",
      " 19  sqft_living15  21142 non-null  int64  \n",
      " 20  sqft_lot15     21142 non-null  int64  \n",
      "dtypes: float64(7), int64(11), object(3)\n",
      "memory usage: 3.5+ MB\n"
     ]
    }
   ],
   "source": [
    "df.info()"
   ]
  },
  {
   "cell_type": "code",
   "execution_count": 38,
   "metadata": {},
   "outputs": [
    {
     "name": "stdout",
     "output_type": "stream",
     "text": [
      "(21142, 21)\n"
     ]
    }
   ],
   "source": [
    "print(df.shape)\n"
   ]
  },
  {
   "cell_type": "markdown",
   "metadata": {},
   "source": [
    "The only column with null values is 'view' which we decided to drop since it was so small. And the last columns that are objects are view and date, the date column can also be dropped. In addition, the id column serves no purpose, the longitude and latitude values are not necessary, and the square footage of the nearest 15 neighbors is not relevant. Therefore these will be dropped as well."
   ]
  },
  {
   "cell_type": "code",
   "execution_count": 39,
   "metadata": {},
   "outputs": [
    {
     "data": {
      "text/html": [
       "<div>\n",
       "<style scoped>\n",
       "    .dataframe tbody tr th:only-of-type {\n",
       "        vertical-align: middle;\n",
       "    }\n",
       "\n",
       "    .dataframe tbody tr th {\n",
       "        vertical-align: top;\n",
       "    }\n",
       "\n",
       "    .dataframe thead th {\n",
       "        text-align: right;\n",
       "    }\n",
       "</style>\n",
       "<table border=\"1\" class=\"dataframe\">\n",
       "  <thead>\n",
       "    <tr style=\"text-align: right;\">\n",
       "      <th></th>\n",
       "      <th>price</th>\n",
       "      <th>bedrooms</th>\n",
       "      <th>bathrooms</th>\n",
       "      <th>sqft_living</th>\n",
       "      <th>sqft_lot</th>\n",
       "      <th>floors</th>\n",
       "      <th>waterfront</th>\n",
       "      <th>condition</th>\n",
       "      <th>grade</th>\n",
       "      <th>sqft_above</th>\n",
       "      <th>sqft_basement</th>\n",
       "      <th>yr_built</th>\n",
       "      <th>yr_renovated</th>\n",
       "    </tr>\n",
       "  </thead>\n",
       "  <tbody>\n",
       "    <tr>\n",
       "      <th>0</th>\n",
       "      <td>221900.00</td>\n",
       "      <td>3</td>\n",
       "      <td>1.00</td>\n",
       "      <td>1180</td>\n",
       "      <td>5650</td>\n",
       "      <td>1.00</td>\n",
       "      <td>0</td>\n",
       "      <td>0</td>\n",
       "      <td>7 Average</td>\n",
       "      <td>1180</td>\n",
       "      <td>0.00</td>\n",
       "      <td>1955</td>\n",
       "      <td>0.00</td>\n",
       "    </tr>\n",
       "    <tr>\n",
       "      <th>1</th>\n",
       "      <td>538000.00</td>\n",
       "      <td>3</td>\n",
       "      <td>2.25</td>\n",
       "      <td>2570</td>\n",
       "      <td>7242</td>\n",
       "      <td>2.00</td>\n",
       "      <td>0</td>\n",
       "      <td>0</td>\n",
       "      <td>7 Average</td>\n",
       "      <td>2170</td>\n",
       "      <td>400.00</td>\n",
       "      <td>1951</td>\n",
       "      <td>1991.00</td>\n",
       "    </tr>\n",
       "    <tr>\n",
       "      <th>2</th>\n",
       "      <td>180000.00</td>\n",
       "      <td>2</td>\n",
       "      <td>1.00</td>\n",
       "      <td>770</td>\n",
       "      <td>10000</td>\n",
       "      <td>1.00</td>\n",
       "      <td>0</td>\n",
       "      <td>0</td>\n",
       "      <td>6 Low Average</td>\n",
       "      <td>770</td>\n",
       "      <td>0.00</td>\n",
       "      <td>1933</td>\n",
       "      <td>0.00</td>\n",
       "    </tr>\n",
       "    <tr>\n",
       "      <th>3</th>\n",
       "      <td>604000.00</td>\n",
       "      <td>4</td>\n",
       "      <td>3.00</td>\n",
       "      <td>1960</td>\n",
       "      <td>5000</td>\n",
       "      <td>1.00</td>\n",
       "      <td>0</td>\n",
       "      <td>4</td>\n",
       "      <td>7 Average</td>\n",
       "      <td>1050</td>\n",
       "      <td>910.00</td>\n",
       "      <td>1965</td>\n",
       "      <td>0.00</td>\n",
       "    </tr>\n",
       "    <tr>\n",
       "      <th>4</th>\n",
       "      <td>510000.00</td>\n",
       "      <td>3</td>\n",
       "      <td>2.00</td>\n",
       "      <td>1680</td>\n",
       "      <td>8080</td>\n",
       "      <td>1.00</td>\n",
       "      <td>0</td>\n",
       "      <td>0</td>\n",
       "      <td>8 Good</td>\n",
       "      <td>1680</td>\n",
       "      <td>0.00</td>\n",
       "      <td>1987</td>\n",
       "      <td>0.00</td>\n",
       "    </tr>\n",
       "  </tbody>\n",
       "</table>\n",
       "</div>"
      ],
      "text/plain": [
       "      price  bedrooms  bathrooms  sqft_living  sqft_lot  floors  waterfront  \\\n",
       "0 221900.00         3       1.00         1180      5650    1.00           0   \n",
       "1 538000.00         3       2.25         2570      7242    2.00           0   \n",
       "2 180000.00         2       1.00          770     10000    1.00           0   \n",
       "3 604000.00         4       3.00         1960      5000    1.00           0   \n",
       "4 510000.00         3       2.00         1680      8080    1.00           0   \n",
       "\n",
       "   condition          grade  sqft_above  sqft_basement  yr_built  yr_renovated  \n",
       "0          0      7 Average        1180           0.00      1955          0.00  \n",
       "1          0      7 Average        2170         400.00      1951       1991.00  \n",
       "2          0  6 Low Average         770           0.00      1933          0.00  \n",
       "3          4      7 Average        1050         910.00      1965          0.00  \n",
       "4          0         8 Good        1680           0.00      1987          0.00  "
      ]
     },
     "execution_count": 39,
     "metadata": {},
     "output_type": "execute_result"
    }
   ],
   "source": [
    "# Dropping last columns and creating final cleaned dataframe:\n",
    "df = df.drop(columns = [ 'id', 'date', 'view', 'lat', 'long', 'sqft_living15', 'sqft_lot15', 'zipcode'])\n",
    "\n",
    "df.head()"
   ]
  },
  {
   "cell_type": "code",
   "execution_count": 40,
   "metadata": {},
   "outputs": [
    {
     "name": "stdout",
     "output_type": "stream",
     "text": [
      "<class 'pandas.core.frame.DataFrame'>\n",
      "Int64Index: 21142 entries, 0 to 21596\n",
      "Data columns (total 13 columns):\n",
      " #   Column         Non-Null Count  Dtype  \n",
      "---  ------         --------------  -----  \n",
      " 0   price          21142 non-null  float64\n",
      " 1   bedrooms       21142 non-null  int64  \n",
      " 2   bathrooms      21142 non-null  float64\n",
      " 3   sqft_living    21142 non-null  int64  \n",
      " 4   sqft_lot       21142 non-null  int64  \n",
      " 5   floors         21142 non-null  float64\n",
      " 6   waterfront     21142 non-null  int64  \n",
      " 7   condition      21142 non-null  int64  \n",
      " 8   grade          21142 non-null  object \n",
      " 9   sqft_above     21142 non-null  int64  \n",
      " 10  sqft_basement  21142 non-null  float64\n",
      " 11  yr_built       21142 non-null  int64  \n",
      " 12  yr_renovated   21142 non-null  float64\n",
      "dtypes: float64(5), int64(7), object(1)\n",
      "memory usage: 2.3+ MB\n"
     ]
    }
   ],
   "source": [
    "df.info()"
   ]
  },
  {
   "cell_type": "markdown",
   "metadata": {},
   "source": [
    "#### Grade"
   ]
  },
  {
   "cell_type": "markdown",
   "metadata": {},
   "source": [
    "The dataframe is almost where we need it to be, the column 'grade' now needs to be altered so that it contains strictly numeric values so it can be used in the models."
   ]
  },
  {
   "cell_type": "code",
   "execution_count": 41,
   "metadata": {},
   "outputs": [
    {
     "data": {
      "text/html": [
       "<div>\n",
       "<style scoped>\n",
       "    .dataframe tbody tr th:only-of-type {\n",
       "        vertical-align: middle;\n",
       "    }\n",
       "\n",
       "    .dataframe tbody tr th {\n",
       "        vertical-align: top;\n",
       "    }\n",
       "\n",
       "    .dataframe thead th {\n",
       "        text-align: right;\n",
       "    }\n",
       "</style>\n",
       "<table border=\"1\" class=\"dataframe\">\n",
       "  <thead>\n",
       "    <tr style=\"text-align: right;\">\n",
       "      <th></th>\n",
       "      <th>11 Excellent</th>\n",
       "      <th>12 Luxury</th>\n",
       "      <th>13 Mansion</th>\n",
       "      <th>3 Poor</th>\n",
       "      <th>4 Low</th>\n",
       "      <th>5 Fair</th>\n",
       "      <th>6 Low Average</th>\n",
       "      <th>7 Average</th>\n",
       "      <th>8 Good</th>\n",
       "      <th>9 Better</th>\n",
       "    </tr>\n",
       "  </thead>\n",
       "  <tbody>\n",
       "    <tr>\n",
       "      <th>0</th>\n",
       "      <td>0</td>\n",
       "      <td>0</td>\n",
       "      <td>0</td>\n",
       "      <td>0</td>\n",
       "      <td>0</td>\n",
       "      <td>0</td>\n",
       "      <td>0</td>\n",
       "      <td>1</td>\n",
       "      <td>0</td>\n",
       "      <td>0</td>\n",
       "    </tr>\n",
       "    <tr>\n",
       "      <th>1</th>\n",
       "      <td>0</td>\n",
       "      <td>0</td>\n",
       "      <td>0</td>\n",
       "      <td>0</td>\n",
       "      <td>0</td>\n",
       "      <td>0</td>\n",
       "      <td>0</td>\n",
       "      <td>1</td>\n",
       "      <td>0</td>\n",
       "      <td>0</td>\n",
       "    </tr>\n",
       "    <tr>\n",
       "      <th>2</th>\n",
       "      <td>0</td>\n",
       "      <td>0</td>\n",
       "      <td>0</td>\n",
       "      <td>0</td>\n",
       "      <td>0</td>\n",
       "      <td>0</td>\n",
       "      <td>1</td>\n",
       "      <td>0</td>\n",
       "      <td>0</td>\n",
       "      <td>0</td>\n",
       "    </tr>\n",
       "    <tr>\n",
       "      <th>3</th>\n",
       "      <td>0</td>\n",
       "      <td>0</td>\n",
       "      <td>0</td>\n",
       "      <td>0</td>\n",
       "      <td>0</td>\n",
       "      <td>0</td>\n",
       "      <td>0</td>\n",
       "      <td>1</td>\n",
       "      <td>0</td>\n",
       "      <td>0</td>\n",
       "    </tr>\n",
       "    <tr>\n",
       "      <th>4</th>\n",
       "      <td>0</td>\n",
       "      <td>0</td>\n",
       "      <td>0</td>\n",
       "      <td>0</td>\n",
       "      <td>0</td>\n",
       "      <td>0</td>\n",
       "      <td>0</td>\n",
       "      <td>0</td>\n",
       "      <td>1</td>\n",
       "      <td>0</td>\n",
       "    </tr>\n",
       "  </tbody>\n",
       "</table>\n",
       "</div>"
      ],
      "text/plain": [
       "   11 Excellent  12 Luxury  13 Mansion  3 Poor  4 Low  5 Fair  6 Low Average  \\\n",
       "0             0          0           0       0      0       0              0   \n",
       "1             0          0           0       0      0       0              0   \n",
       "2             0          0           0       0      0       0              1   \n",
       "3             0          0           0       0      0       0              0   \n",
       "4             0          0           0       0      0       0              0   \n",
       "\n",
       "   7 Average  8 Good  9 Better  \n",
       "0          1       0         0  \n",
       "1          1       0         0  \n",
       "2          0       0         0  \n",
       "3          1       0         0  \n",
       "4          0       1         0  "
      ]
     },
     "execution_count": 41,
     "metadata": {},
     "output_type": "execute_result"
    }
   ],
   "source": [
    "dummies = pd.get_dummies(df['grade'], drop_first=True)\n",
    "dummies.head()\n"
   ]
  },
  {
   "cell_type": "code",
   "execution_count": 42,
   "metadata": {},
   "outputs": [
    {
     "data": {
      "text/html": [
       "<div>\n",
       "<style scoped>\n",
       "    .dataframe tbody tr th:only-of-type {\n",
       "        vertical-align: middle;\n",
       "    }\n",
       "\n",
       "    .dataframe tbody tr th {\n",
       "        vertical-align: top;\n",
       "    }\n",
       "\n",
       "    .dataframe thead th {\n",
       "        text-align: right;\n",
       "    }\n",
       "</style>\n",
       "<table border=\"1\" class=\"dataframe\">\n",
       "  <thead>\n",
       "    <tr style=\"text-align: right;\">\n",
       "      <th></th>\n",
       "      <th>price</th>\n",
       "      <th>bedrooms</th>\n",
       "      <th>bathrooms</th>\n",
       "      <th>sqft_living</th>\n",
       "      <th>sqft_lot</th>\n",
       "      <th>floors</th>\n",
       "      <th>waterfront</th>\n",
       "      <th>condition</th>\n",
       "      <th>sqft_above</th>\n",
       "      <th>sqft_basement</th>\n",
       "      <th>...</th>\n",
       "      <th>11 Excellent</th>\n",
       "      <th>12 Luxury</th>\n",
       "      <th>13 Mansion</th>\n",
       "      <th>3 Poor</th>\n",
       "      <th>4 Low</th>\n",
       "      <th>5 Fair</th>\n",
       "      <th>6 Low Average</th>\n",
       "      <th>7 Average</th>\n",
       "      <th>8 Good</th>\n",
       "      <th>9 Better</th>\n",
       "    </tr>\n",
       "  </thead>\n",
       "  <tbody>\n",
       "    <tr>\n",
       "      <th>0</th>\n",
       "      <td>221900.00</td>\n",
       "      <td>3</td>\n",
       "      <td>1.00</td>\n",
       "      <td>1180</td>\n",
       "      <td>5650</td>\n",
       "      <td>1.00</td>\n",
       "      <td>0</td>\n",
       "      <td>0</td>\n",
       "      <td>1180</td>\n",
       "      <td>0.00</td>\n",
       "      <td>...</td>\n",
       "      <td>0</td>\n",
       "      <td>0</td>\n",
       "      <td>0</td>\n",
       "      <td>0</td>\n",
       "      <td>0</td>\n",
       "      <td>0</td>\n",
       "      <td>0</td>\n",
       "      <td>1</td>\n",
       "      <td>0</td>\n",
       "      <td>0</td>\n",
       "    </tr>\n",
       "    <tr>\n",
       "      <th>1</th>\n",
       "      <td>538000.00</td>\n",
       "      <td>3</td>\n",
       "      <td>2.25</td>\n",
       "      <td>2570</td>\n",
       "      <td>7242</td>\n",
       "      <td>2.00</td>\n",
       "      <td>0</td>\n",
       "      <td>0</td>\n",
       "      <td>2170</td>\n",
       "      <td>400.00</td>\n",
       "      <td>...</td>\n",
       "      <td>0</td>\n",
       "      <td>0</td>\n",
       "      <td>0</td>\n",
       "      <td>0</td>\n",
       "      <td>0</td>\n",
       "      <td>0</td>\n",
       "      <td>0</td>\n",
       "      <td>1</td>\n",
       "      <td>0</td>\n",
       "      <td>0</td>\n",
       "    </tr>\n",
       "    <tr>\n",
       "      <th>2</th>\n",
       "      <td>180000.00</td>\n",
       "      <td>2</td>\n",
       "      <td>1.00</td>\n",
       "      <td>770</td>\n",
       "      <td>10000</td>\n",
       "      <td>1.00</td>\n",
       "      <td>0</td>\n",
       "      <td>0</td>\n",
       "      <td>770</td>\n",
       "      <td>0.00</td>\n",
       "      <td>...</td>\n",
       "      <td>0</td>\n",
       "      <td>0</td>\n",
       "      <td>0</td>\n",
       "      <td>0</td>\n",
       "      <td>0</td>\n",
       "      <td>0</td>\n",
       "      <td>1</td>\n",
       "      <td>0</td>\n",
       "      <td>0</td>\n",
       "      <td>0</td>\n",
       "    </tr>\n",
       "    <tr>\n",
       "      <th>3</th>\n",
       "      <td>604000.00</td>\n",
       "      <td>4</td>\n",
       "      <td>3.00</td>\n",
       "      <td>1960</td>\n",
       "      <td>5000</td>\n",
       "      <td>1.00</td>\n",
       "      <td>0</td>\n",
       "      <td>4</td>\n",
       "      <td>1050</td>\n",
       "      <td>910.00</td>\n",
       "      <td>...</td>\n",
       "      <td>0</td>\n",
       "      <td>0</td>\n",
       "      <td>0</td>\n",
       "      <td>0</td>\n",
       "      <td>0</td>\n",
       "      <td>0</td>\n",
       "      <td>0</td>\n",
       "      <td>1</td>\n",
       "      <td>0</td>\n",
       "      <td>0</td>\n",
       "    </tr>\n",
       "    <tr>\n",
       "      <th>4</th>\n",
       "      <td>510000.00</td>\n",
       "      <td>3</td>\n",
       "      <td>2.00</td>\n",
       "      <td>1680</td>\n",
       "      <td>8080</td>\n",
       "      <td>1.00</td>\n",
       "      <td>0</td>\n",
       "      <td>0</td>\n",
       "      <td>1680</td>\n",
       "      <td>0.00</td>\n",
       "      <td>...</td>\n",
       "      <td>0</td>\n",
       "      <td>0</td>\n",
       "      <td>0</td>\n",
       "      <td>0</td>\n",
       "      <td>0</td>\n",
       "      <td>0</td>\n",
       "      <td>0</td>\n",
       "      <td>0</td>\n",
       "      <td>1</td>\n",
       "      <td>0</td>\n",
       "    </tr>\n",
       "    <tr>\n",
       "      <th>...</th>\n",
       "      <td>...</td>\n",
       "      <td>...</td>\n",
       "      <td>...</td>\n",
       "      <td>...</td>\n",
       "      <td>...</td>\n",
       "      <td>...</td>\n",
       "      <td>...</td>\n",
       "      <td>...</td>\n",
       "      <td>...</td>\n",
       "      <td>...</td>\n",
       "      <td>...</td>\n",
       "      <td>...</td>\n",
       "      <td>...</td>\n",
       "      <td>...</td>\n",
       "      <td>...</td>\n",
       "      <td>...</td>\n",
       "      <td>...</td>\n",
       "      <td>...</td>\n",
       "      <td>...</td>\n",
       "      <td>...</td>\n",
       "      <td>...</td>\n",
       "    </tr>\n",
       "    <tr>\n",
       "      <th>21592</th>\n",
       "      <td>360000.00</td>\n",
       "      <td>3</td>\n",
       "      <td>2.50</td>\n",
       "      <td>1530</td>\n",
       "      <td>1131</td>\n",
       "      <td>3.00</td>\n",
       "      <td>0</td>\n",
       "      <td>0</td>\n",
       "      <td>1530</td>\n",
       "      <td>0.00</td>\n",
       "      <td>...</td>\n",
       "      <td>0</td>\n",
       "      <td>0</td>\n",
       "      <td>0</td>\n",
       "      <td>0</td>\n",
       "      <td>0</td>\n",
       "      <td>0</td>\n",
       "      <td>0</td>\n",
       "      <td>0</td>\n",
       "      <td>1</td>\n",
       "      <td>0</td>\n",
       "    </tr>\n",
       "    <tr>\n",
       "      <th>21593</th>\n",
       "      <td>400000.00</td>\n",
       "      <td>4</td>\n",
       "      <td>2.50</td>\n",
       "      <td>2310</td>\n",
       "      <td>5813</td>\n",
       "      <td>2.00</td>\n",
       "      <td>0</td>\n",
       "      <td>0</td>\n",
       "      <td>2310</td>\n",
       "      <td>0.00</td>\n",
       "      <td>...</td>\n",
       "      <td>0</td>\n",
       "      <td>0</td>\n",
       "      <td>0</td>\n",
       "      <td>0</td>\n",
       "      <td>0</td>\n",
       "      <td>0</td>\n",
       "      <td>0</td>\n",
       "      <td>0</td>\n",
       "      <td>1</td>\n",
       "      <td>0</td>\n",
       "    </tr>\n",
       "    <tr>\n",
       "      <th>21594</th>\n",
       "      <td>402101.00</td>\n",
       "      <td>2</td>\n",
       "      <td>0.75</td>\n",
       "      <td>1020</td>\n",
       "      <td>1350</td>\n",
       "      <td>2.00</td>\n",
       "      <td>0</td>\n",
       "      <td>0</td>\n",
       "      <td>1020</td>\n",
       "      <td>0.00</td>\n",
       "      <td>...</td>\n",
       "      <td>0</td>\n",
       "      <td>0</td>\n",
       "      <td>0</td>\n",
       "      <td>0</td>\n",
       "      <td>0</td>\n",
       "      <td>0</td>\n",
       "      <td>0</td>\n",
       "      <td>1</td>\n",
       "      <td>0</td>\n",
       "      <td>0</td>\n",
       "    </tr>\n",
       "    <tr>\n",
       "      <th>21595</th>\n",
       "      <td>400000.00</td>\n",
       "      <td>3</td>\n",
       "      <td>2.50</td>\n",
       "      <td>1600</td>\n",
       "      <td>2388</td>\n",
       "      <td>2.00</td>\n",
       "      <td>0</td>\n",
       "      <td>0</td>\n",
       "      <td>1600</td>\n",
       "      <td>0.00</td>\n",
       "      <td>...</td>\n",
       "      <td>0</td>\n",
       "      <td>0</td>\n",
       "      <td>0</td>\n",
       "      <td>0</td>\n",
       "      <td>0</td>\n",
       "      <td>0</td>\n",
       "      <td>0</td>\n",
       "      <td>0</td>\n",
       "      <td>1</td>\n",
       "      <td>0</td>\n",
       "    </tr>\n",
       "    <tr>\n",
       "      <th>21596</th>\n",
       "      <td>325000.00</td>\n",
       "      <td>2</td>\n",
       "      <td>0.75</td>\n",
       "      <td>1020</td>\n",
       "      <td>1076</td>\n",
       "      <td>2.00</td>\n",
       "      <td>0</td>\n",
       "      <td>0</td>\n",
       "      <td>1020</td>\n",
       "      <td>0.00</td>\n",
       "      <td>...</td>\n",
       "      <td>0</td>\n",
       "      <td>0</td>\n",
       "      <td>0</td>\n",
       "      <td>0</td>\n",
       "      <td>0</td>\n",
       "      <td>0</td>\n",
       "      <td>0</td>\n",
       "      <td>1</td>\n",
       "      <td>0</td>\n",
       "      <td>0</td>\n",
       "    </tr>\n",
       "  </tbody>\n",
       "</table>\n",
       "<p>21142 rows × 22 columns</p>\n",
       "</div>"
      ],
      "text/plain": [
       "          price  bedrooms  bathrooms  sqft_living  sqft_lot  floors  \\\n",
       "0     221900.00         3       1.00         1180      5650    1.00   \n",
       "1     538000.00         3       2.25         2570      7242    2.00   \n",
       "2     180000.00         2       1.00          770     10000    1.00   \n",
       "3     604000.00         4       3.00         1960      5000    1.00   \n",
       "4     510000.00         3       2.00         1680      8080    1.00   \n",
       "...         ...       ...        ...          ...       ...     ...   \n",
       "21592 360000.00         3       2.50         1530      1131    3.00   \n",
       "21593 400000.00         4       2.50         2310      5813    2.00   \n",
       "21594 402101.00         2       0.75         1020      1350    2.00   \n",
       "21595 400000.00         3       2.50         1600      2388    2.00   \n",
       "21596 325000.00         2       0.75         1020      1076    2.00   \n",
       "\n",
       "       waterfront  condition  sqft_above  sqft_basement  ...  11 Excellent  \\\n",
       "0               0          0        1180           0.00  ...             0   \n",
       "1               0          0        2170         400.00  ...             0   \n",
       "2               0          0         770           0.00  ...             0   \n",
       "3               0          4        1050         910.00  ...             0   \n",
       "4               0          0        1680           0.00  ...             0   \n",
       "...           ...        ...         ...            ...  ...           ...   \n",
       "21592           0          0        1530           0.00  ...             0   \n",
       "21593           0          0        2310           0.00  ...             0   \n",
       "21594           0          0        1020           0.00  ...             0   \n",
       "21595           0          0        1600           0.00  ...             0   \n",
       "21596           0          0        1020           0.00  ...             0   \n",
       "\n",
       "       12 Luxury  13 Mansion  3 Poor  4 Low  5 Fair  6 Low Average  7 Average  \\\n",
       "0              0           0       0      0       0              0          1   \n",
       "1              0           0       0      0       0              0          1   \n",
       "2              0           0       0      0       0              1          0   \n",
       "3              0           0       0      0       0              0          1   \n",
       "4              0           0       0      0       0              0          0   \n",
       "...          ...         ...     ...    ...     ...            ...        ...   \n",
       "21592          0           0       0      0       0              0          0   \n",
       "21593          0           0       0      0       0              0          0   \n",
       "21594          0           0       0      0       0              0          1   \n",
       "21595          0           0       0      0       0              0          0   \n",
       "21596          0           0       0      0       0              0          1   \n",
       "\n",
       "       8 Good  9 Better  \n",
       "0           0         0  \n",
       "1           0         0  \n",
       "2           0         0  \n",
       "3           0         0  \n",
       "4           1         0  \n",
       "...       ...       ...  \n",
       "21592       1         0  \n",
       "21593       1         0  \n",
       "21594       0         0  \n",
       "21595       1         0  \n",
       "21596       0         0  \n",
       "\n",
       "[21142 rows x 22 columns]"
      ]
     },
     "execution_count": 42,
     "metadata": {},
     "output_type": "execute_result"
    }
   ],
   "source": [
    "df_clean = pd.concat([df.drop('grade', axis =1), dummies], axis =1 )\n",
    "df_clean"
   ]
  },
  {
   "cell_type": "code",
   "execution_count": 43,
   "metadata": {},
   "outputs": [
    {
     "data": {
      "image/png": "[encoded data removed]",
      "text/plain": [
       "<Figure size 576x432 with 1 Axes>"
      ]
     },
     "metadata": {
      "needs_background": "light"
     },
     "output_type": "display_data"
    }
   ],
   "source": [
    "fig, ax = plt.subplots(figsize = (8,6))\n",
    "df['grade'].value_counts().plot(kind='barh')\n",
    "ax.set_title('Number of Homes Sold Per Grade')\n",
    "ax.set_xlabel('Count');"
   ]
  },
  {
   "cell_type": "markdown",
   "metadata": {},
   "source": [
    "****"
   ]
  },
  {
   "cell_type": "markdown",
   "metadata": {},
   "source": [
    "Here is one last look at the new dataframe confirming everything is properly cleaned and ready for modeling.\n",
    "\n",
    "From here is where we we will begin to find correlations between home features and a higher selling price.\n"
   ]
  },
  {
   "cell_type": "code",
   "execution_count": 44,
   "metadata": {},
   "outputs": [
    {
     "name": "stdout",
     "output_type": "stream",
     "text": [
      "<class 'pandas.core.frame.DataFrame'>\n",
      "Int64Index: 21142 entries, 0 to 21596\n",
      "Data columns (total 22 columns):\n",
      " #   Column         Non-Null Count  Dtype  \n",
      "---  ------         --------------  -----  \n",
      " 0   price          21142 non-null  float64\n",
      " 1   bedrooms       21142 non-null  int64  \n",
      " 2   bathrooms      21142 non-null  float64\n",
      " 3   sqft_living    21142 non-null  int64  \n",
      " 4   sqft_lot       21142 non-null  int64  \n",
      " 5   floors         21142 non-null  float64\n",
      " 6   waterfront     21142 non-null  int64  \n",
      " 7   condition      21142 non-null  int64  \n",
      " 8   sqft_above     21142 non-null  int64  \n",
      " 9   sqft_basement  21142 non-null  float64\n",
      " 10  yr_built       21142 non-null  int64  \n",
      " 11  yr_renovated   21142 non-null  float64\n",
      " 12  11 Excellent   21142 non-null  uint8  \n",
      " 13  12 Luxury      21142 non-null  uint8  \n",
      " 14  13 Mansion     21142 non-null  uint8  \n",
      " 15  3 Poor         21142 non-null  uint8  \n",
      " 16  4 Low          21142 non-null  uint8  \n",
      " 17  5 Fair         21142 non-null  uint8  \n",
      " 18  6 Low Average  21142 non-null  uint8  \n",
      " 19  7 Average      21142 non-null  uint8  \n",
      " 20  8 Good         21142 non-null  uint8  \n",
      " 21  9 Better       21142 non-null  uint8  \n",
      "dtypes: float64(5), int64(7), uint8(10)\n",
      "memory usage: 2.3 MB\n"
     ]
    }
   ],
   "source": [
    "df_clean.info()"
   ]
  },
  {
   "cell_type": "code",
   "execution_count": 45,
   "metadata": {},
   "outputs": [
    {
     "name": "stdout",
     "output_type": "stream",
     "text": [
      "(21142, 13)\n",
      "(21142, 22)\n"
     ]
    }
   ],
   "source": [
    "print(df.shape)\n",
    "print(df_clean.shape)"
   ]
  },
  {
   "cell_type": "code",
   "execution_count": 46,
   "metadata": {},
   "outputs": [
    {
     "data": {
      "text/html": [
       "<div>\n",
       "<style scoped>\n",
       "    .dataframe tbody tr th:only-of-type {\n",
       "        vertical-align: middle;\n",
       "    }\n",
       "\n",
       "    .dataframe tbody tr th {\n",
       "        vertical-align: top;\n",
       "    }\n",
       "\n",
       "    .dataframe thead th {\n",
       "        text-align: right;\n",
       "    }\n",
       "</style>\n",
       "<table border=\"1\" class=\"dataframe\">\n",
       "  <thead>\n",
       "    <tr style=\"text-align: right;\">\n",
       "      <th></th>\n",
       "      <th>price</th>\n",
       "      <th>bedrooms</th>\n",
       "      <th>bathrooms</th>\n",
       "      <th>sqft_living</th>\n",
       "      <th>sqft_lot</th>\n",
       "      <th>floors</th>\n",
       "      <th>waterfront</th>\n",
       "      <th>condition</th>\n",
       "      <th>sqft_above</th>\n",
       "      <th>sqft_basement</th>\n",
       "      <th>yr_built</th>\n",
       "      <th>yr_renovated</th>\n",
       "    </tr>\n",
       "  </thead>\n",
       "  <tbody>\n",
       "    <tr>\n",
       "      <th>count</th>\n",
       "      <td>21142.00</td>\n",
       "      <td>21142.00</td>\n",
       "      <td>21142.00</td>\n",
       "      <td>21142.00</td>\n",
       "      <td>21142.00</td>\n",
       "      <td>21142.00</td>\n",
       "      <td>21142.00</td>\n",
       "      <td>21142.00</td>\n",
       "      <td>21142.00</td>\n",
       "      <td>21142.00</td>\n",
       "      <td>21142.00</td>\n",
       "      <td>21142.00</td>\n",
       "    </tr>\n",
       "    <tr>\n",
       "      <th>mean</th>\n",
       "      <td>540506.02</td>\n",
       "      <td>3.37</td>\n",
       "      <td>2.12</td>\n",
       "      <td>2080.94</td>\n",
       "      <td>15087.57</td>\n",
       "      <td>1.49</td>\n",
       "      <td>0.01</td>\n",
       "      <td>0.85</td>\n",
       "      <td>1789.10</td>\n",
       "      <td>291.84</td>\n",
       "      <td>1971.02</td>\n",
       "      <td>68.26</td>\n",
       "    </tr>\n",
       "    <tr>\n",
       "      <th>std</th>\n",
       "      <td>368083.13</td>\n",
       "      <td>0.90</td>\n",
       "      <td>0.77</td>\n",
       "      <td>918.56</td>\n",
       "      <td>41210.13</td>\n",
       "      <td>0.54</td>\n",
       "      <td>0.08</td>\n",
       "      <td>1.27</td>\n",
       "      <td>828.41</td>\n",
       "      <td>442.50</td>\n",
       "      <td>29.32</td>\n",
       "      <td>362.77</td>\n",
       "    </tr>\n",
       "    <tr>\n",
       "      <th>min</th>\n",
       "      <td>78000.00</td>\n",
       "      <td>1.00</td>\n",
       "      <td>0.50</td>\n",
       "      <td>370.00</td>\n",
       "      <td>520.00</td>\n",
       "      <td>1.00</td>\n",
       "      <td>0.00</td>\n",
       "      <td>0.00</td>\n",
       "      <td>370.00</td>\n",
       "      <td>0.00</td>\n",
       "      <td>1900.00</td>\n",
       "      <td>0.00</td>\n",
       "    </tr>\n",
       "    <tr>\n",
       "      <th>25%</th>\n",
       "      <td>322000.00</td>\n",
       "      <td>3.00</td>\n",
       "      <td>1.75</td>\n",
       "      <td>1430.00</td>\n",
       "      <td>5043.00</td>\n",
       "      <td>1.00</td>\n",
       "      <td>0.00</td>\n",
       "      <td>0.00</td>\n",
       "      <td>1200.00</td>\n",
       "      <td>0.00</td>\n",
       "      <td>1952.00</td>\n",
       "      <td>0.00</td>\n",
       "    </tr>\n",
       "    <tr>\n",
       "      <th>50%</th>\n",
       "      <td>450000.00</td>\n",
       "      <td>3.00</td>\n",
       "      <td>2.25</td>\n",
       "      <td>1910.00</td>\n",
       "      <td>7620.00</td>\n",
       "      <td>1.50</td>\n",
       "      <td>0.00</td>\n",
       "      <td>0.00</td>\n",
       "      <td>1560.00</td>\n",
       "      <td>0.00</td>\n",
       "      <td>1975.00</td>\n",
       "      <td>0.00</td>\n",
       "    </tr>\n",
       "    <tr>\n",
       "      <th>75%</th>\n",
       "      <td>645000.00</td>\n",
       "      <td>4.00</td>\n",
       "      <td>2.50</td>\n",
       "      <td>2550.00</td>\n",
       "      <td>10695.75</td>\n",
       "      <td>2.00</td>\n",
       "      <td>0.00</td>\n",
       "      <td>2.00</td>\n",
       "      <td>2210.00</td>\n",
       "      <td>560.00</td>\n",
       "      <td>1997.00</td>\n",
       "      <td>0.00</td>\n",
       "    </tr>\n",
       "    <tr>\n",
       "      <th>max</th>\n",
       "      <td>7700000.00</td>\n",
       "      <td>11.00</td>\n",
       "      <td>8.00</td>\n",
       "      <td>13540.00</td>\n",
       "      <td>1651359.00</td>\n",
       "      <td>3.50</td>\n",
       "      <td>1.00</td>\n",
       "      <td>4.00</td>\n",
       "      <td>9410.00</td>\n",
       "      <td>4820.00</td>\n",
       "      <td>2015.00</td>\n",
       "      <td>2015.00</td>\n",
       "    </tr>\n",
       "  </tbody>\n",
       "</table>\n",
       "</div>"
      ],
      "text/plain": [
       "           price  bedrooms  bathrooms  sqft_living   sqft_lot   floors  \\\n",
       "count   21142.00  21142.00   21142.00     21142.00   21142.00 21142.00   \n",
       "mean   540506.02      3.37       2.12      2080.94   15087.57     1.49   \n",
       "std    368083.13      0.90       0.77       918.56   41210.13     0.54   \n",
       "min     78000.00      1.00       0.50       370.00     520.00     1.00   \n",
       "25%    322000.00      3.00       1.75      1430.00    5043.00     1.00   \n",
       "50%    450000.00      3.00       2.25      1910.00    7620.00     1.50   \n",
       "75%    645000.00      4.00       2.50      2550.00   10695.75     2.00   \n",
       "max   7700000.00     11.00       8.00     13540.00 1651359.00     3.50   \n",
       "\n",
       "       waterfront  condition  sqft_above  sqft_basement  yr_built  \\\n",
       "count    21142.00   21142.00    21142.00       21142.00  21142.00   \n",
       "mean         0.01       0.85     1789.10         291.84   1971.02   \n",
       "std          0.08       1.27      828.41         442.50     29.32   \n",
       "min          0.00       0.00      370.00           0.00   1900.00   \n",
       "25%          0.00       0.00     1200.00           0.00   1952.00   \n",
       "50%          0.00       0.00     1560.00           0.00   1975.00   \n",
       "75%          0.00       2.00     2210.00         560.00   1997.00   \n",
       "max          1.00       4.00     9410.00        4820.00   2015.00   \n",
       "\n",
       "       yr_renovated  \n",
       "count      21142.00  \n",
       "mean          68.26  \n",
       "std          362.77  \n",
       "min            0.00  \n",
       "25%            0.00  \n",
       "50%            0.00  \n",
       "75%            0.00  \n",
       "max         2015.00  "
      ]
     },
     "execution_count": 46,
     "metadata": {},
     "output_type": "execute_result"
    }
   ],
   "source": [
    "df.describe()"
   ]
  },
  {
   "cell_type": "markdown",
   "metadata": {},
   "source": [
    "****"
   ]
  },
  {
   "cell_type": "markdown",
   "metadata": {},
   "source": [
    "### Initial Correlations "
   ]
  },
  {
   "cell_type": "code",
   "execution_count": 63,
   "metadata": {},
   "outputs": [
    {
     "data": {
      "image/png": "[encoded data removed]",
      "text/plain": [
       "<Figure size 1600x1200 with 2 Axes>"
      ]
     },
     "metadata": {},
     "output_type": "display_data"
    }
   ],
   "source": [
    "# Creating a heatmap, and to aid in identifying correaltions, including annotations.\n",
    "# Here I am using the dataframe without the dummies added to the 'grade' category to\n",
    "# avoid an over-complicated heatmap\n",
    "corr_x = df.corr()\n",
    "f, ax = plt.subplots(figsize=(16,12))\n",
    "sns.heatmap(corr_x, annot=True );"
   ]
  },
  {
   "cell_type": "code",
   "execution_count": 48,
   "metadata": {},
   "outputs": [
    {
     "data": {
      "text/plain": [
       "price           1.00\n",
       "sqft_living     0.70\n",
       "sqft_above      0.61\n",
       "bathrooms       0.53\n",
       "11 Excellent    0.36\n",
       "sqft_basement   0.33\n",
       "bedrooms        0.32\n",
       "7 Average       0.32\n",
       "12 Luxury       0.29\n",
       "waterfront      0.27\n",
       "floors          0.26\n",
       "9 Better        0.23\n",
       "13 Mansion      0.21\n",
       "6 Low Average   0.21\n",
       "yr_renovated    0.12\n",
       "sqft_lot        0.09\n",
       "5 Fair          0.08\n",
       "yr_built        0.05\n",
       "4 Low           0.03\n",
       "condition       0.02\n",
       "3 Poor          0.01\n",
       "8 Good          0.01\n",
       "Name: price, dtype: float64"
      ]
     },
     "execution_count": 48,
     "metadata": {},
     "output_type": "execute_result"
    }
   ],
   "source": [
    "# Here is a table which will be easier to read with our new data frame which has several \n",
    "# additional columns due to the 'grade' values being separated:\n",
    "\n",
    "df_clean_corr=df_clean.corr()['price'].map(abs).sort_values(ascending = False)\n",
    "df_clean_corr"
   ]
  },
  {
   "cell_type": "markdown",
   "metadata": {},
   "source": [
    "Generally anything with a correlation above 0.7 is considered 'High' and anything between 0.5-0.7 is 'Moderate'.\n",
    "The variables here that fall into 'High' are square footage living space and square footabe above basement. While bathrooms are considered a 'Moderate' correlated variable."
   ]
  },
  {
   "cell_type": "code",
   "execution_count": 50,
   "metadata": {
    "scrolled": true
   },
   "outputs": [
    {
     "data": {
      "image/png": "[encoded data removed]",
      "text/plain": [
       "<Figure size 576x432 with 1 Axes>"
      ]
     },
     "metadata": {
      "needs_background": "light"
     },
     "output_type": "display_data"
    }
   ],
   "source": [
    "fig, ax = plt.subplots(figsize = (8,6))\n",
    "\n",
    "ax.scatter(df_clean['sqft_living'], df_clean['price'], alpha = .1)\n",
    "ax.set_xlabel('Sqft of Living Space')\n",
    "ax.set_ylabel('Sale Price')\n",
    "ax.set_title('Positive Correlation of Sqft Living & Sale Price')\n",
    "plt.tight_layout()"
   ]
  },
  {
   "cell_type": "code",
   "execution_count": 67,
   "metadata": {},
   "outputs": [
    {
     "data": {
      "image/png": "[encoded data removed]",
      "text/plain": [
       "<Figure size 800x600 with 1 Axes>"
      ]
     },
     "metadata": {},
     "output_type": "display_data"
    }
   ],
   "source": [
    "fig, ax = plt.subplots(figsize = (8,6))\n",
    "\n",
    "ax.scatter(df_clean['bathrooms'], df_clean['price'], alpha = .1)\n",
    "ax.set_xlabel('bathrooms')\n",
    "ax.set_ylabel('Sale Price')\n",
    "ax.set_title('Positive Correlation of Bathrooms & Sale Price')\n",
    "plt.tight_layout()"
   ]
  },
  {
   "cell_type": "code",
   "execution_count": 51,
   "metadata": {},
   "outputs": [
    {
     "data": {
      "text/plain": [
       "((21142, 22), (21142,))"
      ]
     },
     "execution_count": 51,
     "metadata": {},
     "output_type": "execute_result"
    }
   ],
   "source": [
    "# Split into X and Y.\n",
    "X = df_clean.drop('price', axis=1)\n",
    "y = df_clean['price']\n",
    "X = sm.add_constant(X)\n",
    "X.shape, y. shape"
   ]
  },
  {
   "cell_type": "markdown",
   "metadata": {},
   "source": [
    "### Multicollinearity"
   ]
  },
  {
   "cell_type": "markdown",
   "metadata": {},
   "source": [
    "Now would be a good time to check for multicollinearity, which can adversely effect our model if it is not dealt with. We will check to see if there are multiple predictors that have a high correlation with each other that need to be removed."
   ]
  },
  {
   "cell_type": "code",
   "execution_count": 52,
   "metadata": {},
   "outputs": [
    {
     "data": {
      "text/html": [
       "<div>\n",
       "<style scoped>\n",
       "    .dataframe tbody tr th:only-of-type {\n",
       "        vertical-align: middle;\n",
       "    }\n",
       "\n",
       "    .dataframe tbody tr th {\n",
       "        vertical-align: top;\n",
       "    }\n",
       "\n",
       "    .dataframe thead th {\n",
       "        text-align: right;\n",
       "    }\n",
       "</style>\n",
       "<table border=\"1\" class=\"dataframe\">\n",
       "  <thead>\n",
       "    <tr style=\"text-align: right;\">\n",
       "      <th></th>\n",
       "      <th>cc</th>\n",
       "    </tr>\n",
       "    <tr>\n",
       "      <th>pairs</th>\n",
       "      <th></th>\n",
       "    </tr>\n",
       "  </thead>\n",
       "  <tbody>\n",
       "    <tr>\n",
       "      <th>(price, price)</th>\n",
       "      <td>1.00</td>\n",
       "    </tr>\n",
       "    <tr>\n",
       "      <th>(sqft_above, sqft_living)</th>\n",
       "      <td>0.88</td>\n",
       "    </tr>\n",
       "    <tr>\n",
       "      <th>(sqft_living, bathrooms)</th>\n",
       "      <td>0.76</td>\n",
       "    </tr>\n",
       "  </tbody>\n",
       "</table>\n",
       "</div>"
      ],
      "text/plain": [
       "                            cc\n",
       "pairs                         \n",
       "(price, price)            1.00\n",
       "(sqft_above, sqft_living) 0.88\n",
       "(sqft_living, bathrooms)  0.76"
      ]
     },
     "execution_count": 52,
     "metadata": {},
     "output_type": "execute_result"
    }
   ],
   "source": [
    "#creating a new dataframe of using absolute values\n",
    "pairs_df = df_clean.corr().abs().stack().reset_index().sort_values(0, ascending = False)\n",
    "pairs_df['pairs']=list(zip(pairs_df.level_0, pairs_df.level_1))\n",
    "pairs_df.set_index(['pairs'], inplace=True)\n",
    "pairs_df.drop(columns=['level_1', 'level_0'], inplace = True)\n",
    "\n",
    "#rename correlation column as cc rather than 0\n",
    "\n",
    "pairs_df.columns = ['cc']\n",
    "\n",
    "# drop duplicates\n",
    "\n",
    "pairs_df.drop_duplicates(inplace = True)\n",
    "\n",
    "# setting a range\n",
    "pairs_df[(pairs_df.cc>.75) & (pairs_df.cc<1)]\n",
    "\n",
    "pairs_df.head(3)"
   ]
  },
  {
   "cell_type": "markdown",
   "metadata": {},
   "source": [
    "So after running that function we see some high correlations, we will remove 'sqft_living' since it is present in both items. "
   ]
  },
  {
   "cell_type": "code",
   "execution_count": 53,
   "metadata": {},
   "outputs": [],
   "source": [
    "df_clean.drop=df_clean.drop(columns = ['sqft_living'], inplace = True)"
   ]
  },
  {
   "cell_type": "markdown",
   "metadata": {},
   "source": [
    "****"
   ]
  },
  {
   "cell_type": "code",
   "execution_count": 108,
   "metadata": {},
   "outputs": [],
   "source": [
    "# Writing a function to create VIF dictionary.\n",
    "#def create_vif_dictionary(X):\n",
    "#    \"\"\"\n",
    "#    Parameters\n",
    " #   ----------\n",
    "  #  X: Pandas dataframe of predictive variables only.\n",
    "   #     Should have `.columns` and `.values` attributes.\n",
    "    #\"\"\"\n",
    "    \n",
    "#    vif_dct = {}\n",
    "\n",
    "    # Loop through each row and set the variable name to the VIF. \n",
    "#    for i in range(len(X.columns)):\n",
    "        # Calculate VIF\n",
    "#        vif = variance_inflation_factor(X.values, i)\n",
    "        \n",
    "        # Extract column name for dictionary key.\n",
    "#        v = X.columns[i]\n",
    "        \n",
    "        # Set value in dictionary.\n",
    "#        vif_dct[v] = vif\n",
    "\n",
    "#    return vif_dct\n",
    "\n"
   ]
  },
  {
   "cell_type": "markdown",
   "metadata": {},
   "source": [
    "### Modeling "
   ]
  },
  {
   "cell_type": "code",
   "execution_count": 55,
   "metadata": {},
   "outputs": [
    {
     "data": {
      "text/html": [
       "<table class=\"simpletable\">\n",
       "<caption>OLS Regression Results</caption>\n",
       "<tr>\n",
       "  <th>Dep. Variable:</th>          <td>price</td>      <th>  R-squared:         </th>  <td>   0.675</td>  \n",
       "</tr>\n",
       "<tr>\n",
       "  <th>Model:</th>                   <td>OLS</td>       <th>  Adj. R-squared:    </th>  <td>   0.675</td>  \n",
       "</tr>\n",
       "<tr>\n",
       "  <th>Method:</th>             <td>Least Squares</td>  <th>  F-statistic:       </th>  <td>   2196.</td>  \n",
       "</tr>\n",
       "<tr>\n",
       "  <th>Date:</th>             <td>Wed, 18 May 2022</td> <th>  Prob (F-statistic):</th>   <td>  0.00</td>   \n",
       "</tr>\n",
       "<tr>\n",
       "  <th>Time:</th>                 <td>10:55:30</td>     <th>  Log-Likelihood:    </th> <td>-2.8907e+05</td>\n",
       "</tr>\n",
       "<tr>\n",
       "  <th>No. Observations:</th>      <td> 21142</td>      <th>  AIC:               </th>  <td>5.782e+05</td> \n",
       "</tr>\n",
       "<tr>\n",
       "  <th>Df Residuals:</th>          <td> 21121</td>      <th>  BIC:               </th>  <td>5.783e+05</td> \n",
       "</tr>\n",
       "<tr>\n",
       "  <th>Df Model:</th>              <td>    20</td>      <th>                     </th>      <td> </td>     \n",
       "</tr>\n",
       "<tr>\n",
       "  <th>Covariance Type:</th>      <td>nonrobust</td>    <th>                     </th>      <td> </td>     \n",
       "</tr>\n",
       "</table>\n",
       "<table class=\"simpletable\">\n",
       "<tr>\n",
       "        <td></td>           <th>coef</th>     <th>std err</th>      <th>t</th>      <th>P>|t|</th>  <th>[0.025</th>    <th>0.975]</th>  \n",
       "</tr>\n",
       "<tr>\n",
       "  <th>const</th>         <td> 6.995e+06</td> <td> 1.38e+05</td> <td>   50.804</td> <td> 0.000</td> <td> 6.72e+06</td> <td> 7.26e+06</td>\n",
       "</tr>\n",
       "<tr>\n",
       "  <th>bedrooms</th>      <td>-3.017e+04</td> <td> 2125.924</td> <td>  -14.192</td> <td> 0.000</td> <td>-3.43e+04</td> <td> -2.6e+04</td>\n",
       "</tr>\n",
       "<tr>\n",
       "  <th>bathrooms</th>     <td> 4.939e+04</td> <td> 3457.563</td> <td>   14.284</td> <td> 0.000</td> <td> 4.26e+04</td> <td> 5.62e+04</td>\n",
       "</tr>\n",
       "<tr>\n",
       "  <th>sqft_living</th>   <td>  102.5007</td> <td>    2.293</td> <td>   44.701</td> <td> 0.000</td> <td>   98.006</td> <td>  106.995</td>\n",
       "</tr>\n",
       "<tr>\n",
       "  <th>sqft_lot</th>      <td>   -0.2479</td> <td>    0.036</td> <td>   -6.866</td> <td> 0.000</td> <td>   -0.319</td> <td>   -0.177</td>\n",
       "</tr>\n",
       "<tr>\n",
       "  <th>floors</th>        <td> 4.223e+04</td> <td> 3722.699</td> <td>   11.343</td> <td> 0.000</td> <td> 3.49e+04</td> <td> 4.95e+04</td>\n",
       "</tr>\n",
       "<tr>\n",
       "  <th>waterfront</th>    <td> 7.242e+05</td> <td>  1.8e+04</td> <td>   40.333</td> <td> 0.000</td> <td> 6.89e+05</td> <td> 7.59e+05</td>\n",
       "</tr>\n",
       "<tr>\n",
       "  <th>condition</th>     <td> 1.291e+04</td> <td> 1277.895</td> <td>   10.102</td> <td> 0.000</td> <td> 1.04e+04</td> <td> 1.54e+04</td>\n",
       "</tr>\n",
       "<tr>\n",
       "  <th>sqft_above</th>    <td>   30.2626</td> <td>    2.242</td> <td>   13.499</td> <td> 0.000</td> <td>   25.868</td> <td>   34.657</td>\n",
       "</tr>\n",
       "<tr>\n",
       "  <th>sqft_basement</th> <td>   72.2383</td> <td>    2.694</td> <td>   26.818</td> <td> 0.000</td> <td>   66.958</td> <td>   77.518</td>\n",
       "</tr>\n",
       "<tr>\n",
       "  <th>yr_built</th>      <td>-3285.3635</td> <td>   70.225</td> <td>  -46.783</td> <td> 0.000</td> <td>-3423.011</td> <td>-3147.716</td>\n",
       "</tr>\n",
       "<tr>\n",
       "  <th>yr_renovated</th>  <td>   24.9082</td> <td>    4.208</td> <td>    5.919</td> <td> 0.000</td> <td>   16.660</td> <td>   33.156</td>\n",
       "</tr>\n",
       "<tr>\n",
       "  <th>11 Excellent</th>  <td> 2.772e+05</td> <td> 1.26e+04</td> <td>   22.014</td> <td> 0.000</td> <td> 2.53e+05</td> <td> 3.02e+05</td>\n",
       "</tr>\n",
       "<tr>\n",
       "  <th>12 Luxury</th>     <td> 7.641e+05</td> <td> 2.38e+04</td> <td>   32.064</td> <td> 0.000</td> <td> 7.17e+05</td> <td> 8.11e+05</td>\n",
       "</tr>\n",
       "<tr>\n",
       "  <th>13 Mansion</th>    <td> 1.964e+06</td> <td> 5.97e+04</td> <td>   32.924</td> <td> 0.000</td> <td> 1.85e+06</td> <td> 2.08e+06</td>\n",
       "</tr>\n",
       "<tr>\n",
       "  <th>3 Poor</th>        <td>-5.912e+05</td> <td>  2.1e+05</td> <td>   -2.813</td> <td> 0.005</td> <td>   -1e+06</td> <td>-1.79e+05</td>\n",
       "</tr>\n",
       "<tr>\n",
       "  <th>4 Low</th>         <td>-5.634e+05</td> <td> 4.16e+04</td> <td>  -13.529</td> <td> 0.000</td> <td>-6.45e+05</td> <td>-4.82e+05</td>\n",
       "</tr>\n",
       "<tr>\n",
       "  <th>5 Fair</th>        <td>-5.732e+05</td> <td> 1.68e+04</td> <td>  -34.191</td> <td> 0.000</td> <td>-6.06e+05</td> <td> -5.4e+05</td>\n",
       "</tr>\n",
       "<tr>\n",
       "  <th>6 Low Average</th> <td> -5.19e+05</td> <td> 1.04e+04</td> <td>  -50.026</td> <td> 0.000</td> <td>-5.39e+05</td> <td>-4.99e+05</td>\n",
       "</tr>\n",
       "<tr>\n",
       "  <th>7 Average</th>     <td>-4.371e+05</td> <td> 8592.957</td> <td>  -50.871</td> <td> 0.000</td> <td>-4.54e+05</td> <td> -4.2e+05</td>\n",
       "</tr>\n",
       "<tr>\n",
       "  <th>8 Good</th>        <td>-3.414e+05</td> <td> 7884.979</td> <td>  -43.304</td> <td> 0.000</td> <td>-3.57e+05</td> <td>-3.26e+05</td>\n",
       "</tr>\n",
       "<tr>\n",
       "  <th>9 Better</th>      <td>-1.876e+05</td> <td> 7782.271</td> <td>  -24.104</td> <td> 0.000</td> <td>-2.03e+05</td> <td>-1.72e+05</td>\n",
       "</tr>\n",
       "</table>\n",
       "<table class=\"simpletable\">\n",
       "<tr>\n",
       "  <th>Omnibus:</th>       <td>11915.578</td> <th>  Durbin-Watson:     </th>  <td>   1.979</td> \n",
       "</tr>\n",
       "<tr>\n",
       "  <th>Prob(Omnibus):</th>  <td> 0.000</td>   <th>  Jarque-Bera (JB):  </th> <td>389051.686</td>\n",
       "</tr>\n",
       "<tr>\n",
       "  <th>Skew:</th>           <td> 2.135</td>   <th>  Prob(JB):          </th>  <td>    0.00</td> \n",
       "</tr>\n",
       "<tr>\n",
       "  <th>Kurtosis:</th>       <td>23.577</td>   <th>  Cond. No.          </th>  <td>1.01e+16</td> \n",
       "</tr>\n",
       "</table><br/><br/>Notes:<br/>[1] Standard Errors assume that the covariance matrix of the errors is correctly specified.<br/>[2] The smallest eigenvalue is 3.98e-19. This might indicate that there are<br/>strong multicollinearity problems or that the design matrix is singular."
      ],
      "text/plain": [
       "<class 'statsmodels.iolib.summary.Summary'>\n",
       "\"\"\"\n",
       "                            OLS Regression Results                            \n",
       "==============================================================================\n",
       "Dep. Variable:                  price   R-squared:                       0.675\n",
       "Model:                            OLS   Adj. R-squared:                  0.675\n",
       "Method:                 Least Squares   F-statistic:                     2196.\n",
       "Date:                Wed, 18 May 2022   Prob (F-statistic):               0.00\n",
       "Time:                        10:55:30   Log-Likelihood:            -2.8907e+05\n",
       "No. Observations:               21142   AIC:                         5.782e+05\n",
       "Df Residuals:                   21121   BIC:                         5.783e+05\n",
       "Df Model:                          20                                         \n",
       "Covariance Type:            nonrobust                                         \n",
       "=================================================================================\n",
       "                    coef    std err          t      P>|t|      [0.025      0.975]\n",
       "---------------------------------------------------------------------------------\n",
       "const          6.995e+06   1.38e+05     50.804      0.000    6.72e+06    7.26e+06\n",
       "bedrooms      -3.017e+04   2125.924    -14.192      0.000   -3.43e+04    -2.6e+04\n",
       "bathrooms      4.939e+04   3457.563     14.284      0.000    4.26e+04    5.62e+04\n",
       "sqft_living     102.5007      2.293     44.701      0.000      98.006     106.995\n",
       "sqft_lot         -0.2479      0.036     -6.866      0.000      -0.319      -0.177\n",
       "floors         4.223e+04   3722.699     11.343      0.000    3.49e+04    4.95e+04\n",
       "waterfront     7.242e+05    1.8e+04     40.333      0.000    6.89e+05    7.59e+05\n",
       "condition      1.291e+04   1277.895     10.102      0.000    1.04e+04    1.54e+04\n",
       "sqft_above       30.2626      2.242     13.499      0.000      25.868      34.657\n",
       "sqft_basement    72.2383      2.694     26.818      0.000      66.958      77.518\n",
       "yr_built      -3285.3635     70.225    -46.783      0.000   -3423.011   -3147.716\n",
       "yr_renovated     24.9082      4.208      5.919      0.000      16.660      33.156\n",
       "11 Excellent   2.772e+05   1.26e+04     22.014      0.000    2.53e+05    3.02e+05\n",
       "12 Luxury      7.641e+05   2.38e+04     32.064      0.000    7.17e+05    8.11e+05\n",
       "13 Mansion     1.964e+06   5.97e+04     32.924      0.000    1.85e+06    2.08e+06\n",
       "3 Poor        -5.912e+05    2.1e+05     -2.813      0.005      -1e+06   -1.79e+05\n",
       "4 Low         -5.634e+05   4.16e+04    -13.529      0.000   -6.45e+05   -4.82e+05\n",
       "5 Fair        -5.732e+05   1.68e+04    -34.191      0.000   -6.06e+05    -5.4e+05\n",
       "6 Low Average  -5.19e+05   1.04e+04    -50.026      0.000   -5.39e+05   -4.99e+05\n",
       "7 Average     -4.371e+05   8592.957    -50.871      0.000   -4.54e+05    -4.2e+05\n",
       "8 Good        -3.414e+05   7884.979    -43.304      0.000   -3.57e+05   -3.26e+05\n",
       "9 Better      -1.876e+05   7782.271    -24.104      0.000   -2.03e+05   -1.72e+05\n",
       "==============================================================================\n",
       "Omnibus:                    11915.578   Durbin-Watson:                   1.979\n",
       "Prob(Omnibus):                  0.000   Jarque-Bera (JB):           389051.686\n",
       "Skew:                           2.135   Prob(JB):                         0.00\n",
       "Kurtosis:                      23.577   Cond. No.                     1.01e+16\n",
       "==============================================================================\n",
       "\n",
       "Notes:\n",
       "[1] Standard Errors assume that the covariance matrix of the errors is correctly specified.\n",
       "[2] The smallest eigenvalue is 3.98e-19. This might indicate that there are\n",
       "strong multicollinearity problems or that the design matrix is singular.\n",
       "\"\"\""
      ]
     },
     "execution_count": 55,
     "metadata": {},
     "output_type": "execute_result"
    }
   ],
   "source": [
    "model = sm.OLS(y, X).fit()\n",
    "model.summary()"
   ]
  },
  {
   "cell_type": "code",
   "execution_count": 56,
   "metadata": {},
   "outputs": [
    {
     "data": {
      "application/vnd.jupyter.widget-view+json": {
       "model_id": "f9a9a4103d994db7b8bb98e1718293de",
       "version_major": 2,
       "version_minor": 0
      },
      "text/plain": [
       "HBox(children=(HTML(value=''), FloatProgress(value=0.0, layout=Layout(flex='2'), max=22.0), HTML(value='')), l…"
      ]
     },
     "metadata": {},
     "output_type": "display_data"
    },
    {
     "name": "stdout",
     "output_type": "stream",
     "text": [
      "\n",
      "Report ./report.html was generated! NOTEBOOK/COLAB USERS: the web browser MAY not pop up, regardless, the report IS saved in your notebook/colab files.\n"
     ]
    }
   ],
   "source": [
    "import sweetviz as sv\n",
    "report = sv.analyze(df_clean)\n",
    "report.show_html(\"./report.html\")"
   ]
  },
  {
   "cell_type": "markdown",
   "metadata": {},
   "source": [
    "***"
   ]
  }
 ],
 "metadata": {
  "kernelspec": {
   "display_name": "Python (learn-env)",
   "language": "python",
   "name": "learn-env"
  },
  "language_info": {
   "codemirror_mode": {
    "name": "ipython",
    "version": 3
   },
   "file_extension": ".py",
   "mimetype": "text/x-python",
   "name": "python",
   "nbconvert_exporter": "python",
   "pygments_lexer": "ipython3",
   "version": "3.8.5"
  }
 },
 "nbformat": 4,
 "nbformat_minor": 4
}
